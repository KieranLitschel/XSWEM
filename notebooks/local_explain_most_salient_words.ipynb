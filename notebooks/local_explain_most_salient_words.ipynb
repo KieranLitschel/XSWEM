{
 "nbformat": 4,
 "nbformat_minor": 0,
 "metadata": {
  "colab": {
   "name": "local_explain_most_salient_words.ipynb",
   "provenance": [],
   "collapsed_sections": [],
   "toc_visible": true
  },
  "kernelspec": {
   "display_name": "Python 3",
   "language": "python",
   "name": "python3"
  },
  "language_info": {
   "codemirror_mode": {
    "name": "ipython",
    "version": 3
   },
   "file_extension": ".py",
   "mimetype": "text/x-python",
   "name": "python",
   "nbconvert_exporter": "python",
   "pygments_lexer": "ipython3",
   "version": "3.8.5"
  },
  "accelerator": "GPU",
  "widgets": {
   "application/vnd.jupyter.widget-state+json": {
    "baf1c6b067a1455cb6c71c0928517378": {
     "model_module": "@jupyter-widgets/controls",
     "model_name": "HBoxModel",
     "state": {
      "_view_name": "HBoxView",
      "_dom_classes": [],
      "_model_name": "HBoxModel",
      "_view_module": "@jupyter-widgets/controls",
      "_model_module_version": "1.5.0",
      "_view_count": null,
      "_view_module_version": "1.5.0",
      "box_style": "",
      "layout": "IPY_MODEL_68d59c10917e4818ad4ce9489028933a",
      "_model_module": "@jupyter-widgets/controls",
      "children": [
       "IPY_MODEL_22c382ec85ca46cab3f89073e98a45c4",
       "IPY_MODEL_6ccafa3af2124191b6e3076faf76e388"
      ]
     }
    },
    "68d59c10917e4818ad4ce9489028933a": {
     "model_module": "@jupyter-widgets/base",
     "model_name": "LayoutModel",
     "state": {
      "_view_name": "LayoutView",
      "grid_template_rows": null,
      "right": null,
      "justify_content": null,
      "_view_module": "@jupyter-widgets/base",
      "overflow": null,
      "_model_module_version": "1.2.0",
      "_view_count": null,
      "flex_flow": null,
      "width": null,
      "min_width": null,
      "border": null,
      "align_items": null,
      "bottom": null,
      "_model_module": "@jupyter-widgets/base",
      "top": null,
      "grid_column": null,
      "overflow_y": null,
      "overflow_x": null,
      "grid_auto_flow": null,
      "grid_area": null,
      "grid_template_columns": null,
      "flex": null,
      "_model_name": "LayoutModel",
      "justify_items": null,
      "grid_row": null,
      "max_height": null,
      "align_content": null,
      "visibility": null,
      "align_self": null,
      "height": null,
      "min_height": null,
      "padding": null,
      "grid_auto_rows": null,
      "grid_gap": null,
      "max_width": null,
      "order": null,
      "_view_module_version": "1.2.0",
      "grid_template_areas": null,
      "object_position": null,
      "object_fit": null,
      "grid_auto_columns": null,
      "margin": null,
      "display": null,
      "left": null
     }
    },
    "22c382ec85ca46cab3f89073e98a45c4": {
     "model_module": "@jupyter-widgets/controls",
     "model_name": "FloatProgressModel",
     "state": {
      "_view_name": "ProgressView",
      "style": "IPY_MODEL_00cd43a38d154588b34143d1c894ccd8",
      "_dom_classes": [],
      "description": "Downloading: ",
      "_model_name": "FloatProgressModel",
      "bar_style": "success",
      "max": 1817,
      "_view_module": "@jupyter-widgets/controls",
      "_model_module_version": "1.5.0",
      "value": 1817,
      "_view_count": null,
      "_view_module_version": "1.5.0",
      "orientation": "horizontal",
      "min": 0,
      "description_tooltip": null,
      "_model_module": "@jupyter-widgets/controls",
      "layout": "IPY_MODEL_4c43c4b2933f4fd391a73488d105ee92"
     }
    },
    "6ccafa3af2124191b6e3076faf76e388": {
     "model_module": "@jupyter-widgets/controls",
     "model_name": "HTMLModel",
     "state": {
      "_view_name": "HTMLView",
      "style": "IPY_MODEL_cd62f15066e440dfbcd757df213f2ec1",
      "_dom_classes": [],
      "description": "",
      "_model_name": "HTMLModel",
      "placeholder": "​",
      "_view_module": "@jupyter-widgets/controls",
      "_model_module_version": "1.5.0",
      "value": " 3.99k/? [00:04&lt;00:00, 889B/s]",
      "_view_count": null,
      "_view_module_version": "1.5.0",
      "description_tooltip": null,
      "_model_module": "@jupyter-widgets/controls",
      "layout": "IPY_MODEL_c1cb775a0b5b4f58b9da1ac7cbf861e9"
     }
    },
    "00cd43a38d154588b34143d1c894ccd8": {
     "model_module": "@jupyter-widgets/controls",
     "model_name": "ProgressStyleModel",
     "state": {
      "_view_name": "StyleView",
      "_model_name": "ProgressStyleModel",
      "description_width": "initial",
      "_view_module": "@jupyter-widgets/base",
      "_model_module_version": "1.5.0",
      "_view_count": null,
      "_view_module_version": "1.2.0",
      "bar_color": null,
      "_model_module": "@jupyter-widgets/controls"
     }
    },
    "4c43c4b2933f4fd391a73488d105ee92": {
     "model_module": "@jupyter-widgets/base",
     "model_name": "LayoutModel",
     "state": {
      "_view_name": "LayoutView",
      "grid_template_rows": null,
      "right": null,
      "justify_content": null,
      "_view_module": "@jupyter-widgets/base",
      "overflow": null,
      "_model_module_version": "1.2.0",
      "_view_count": null,
      "flex_flow": null,
      "width": null,
      "min_width": null,
      "border": null,
      "align_items": null,
      "bottom": null,
      "_model_module": "@jupyter-widgets/base",
      "top": null,
      "grid_column": null,
      "overflow_y": null,
      "overflow_x": null,
      "grid_auto_flow": null,
      "grid_area": null,
      "grid_template_columns": null,
      "flex": null,
      "_model_name": "LayoutModel",
      "justify_items": null,
      "grid_row": null,
      "max_height": null,
      "align_content": null,
      "visibility": null,
      "align_self": null,
      "height": null,
      "min_height": null,
      "padding": null,
      "grid_auto_rows": null,
      "grid_gap": null,
      "max_width": null,
      "order": null,
      "_view_module_version": "1.2.0",
      "grid_template_areas": null,
      "object_position": null,
      "object_fit": null,
      "grid_auto_columns": null,
      "margin": null,
      "display": null,
      "left": null
     }
    },
    "cd62f15066e440dfbcd757df213f2ec1": {
     "model_module": "@jupyter-widgets/controls",
     "model_name": "DescriptionStyleModel",
     "state": {
      "_view_name": "StyleView",
      "_model_name": "DescriptionStyleModel",
      "description_width": "",
      "_view_module": "@jupyter-widgets/base",
      "_model_module_version": "1.5.0",
      "_view_count": null,
      "_view_module_version": "1.2.0",
      "_model_module": "@jupyter-widgets/controls"
     }
    },
    "c1cb775a0b5b4f58b9da1ac7cbf861e9": {
     "model_module": "@jupyter-widgets/base",
     "model_name": "LayoutModel",
     "state": {
      "_view_name": "LayoutView",
      "grid_template_rows": null,
      "right": null,
      "justify_content": null,
      "_view_module": "@jupyter-widgets/base",
      "overflow": null,
      "_model_module_version": "1.2.0",
      "_view_count": null,
      "flex_flow": null,
      "width": null,
      "min_width": null,
      "border": null,
      "align_items": null,
      "bottom": null,
      "_model_module": "@jupyter-widgets/base",
      "top": null,
      "grid_column": null,
      "overflow_y": null,
      "overflow_x": null,
      "grid_auto_flow": null,
      "grid_area": null,
      "grid_template_columns": null,
      "flex": null,
      "_model_name": "LayoutModel",
      "justify_items": null,
      "grid_row": null,
      "max_height": null,
      "align_content": null,
      "visibility": null,
      "align_self": null,
      "height": null,
      "min_height": null,
      "padding": null,
      "grid_auto_rows": null,
      "grid_gap": null,
      "max_width": null,
      "order": null,
      "_view_module_version": "1.2.0",
      "grid_template_areas": null,
      "object_position": null,
      "object_fit": null,
      "grid_auto_columns": null,
      "margin": null,
      "display": null,
      "left": null
     }
    },
    "b3439c020b7c4994a6604ee8901a18d6": {
     "model_module": "@jupyter-widgets/controls",
     "model_name": "HBoxModel",
     "state": {
      "_view_name": "HBoxView",
      "_dom_classes": [],
      "_model_name": "HBoxModel",
      "_view_module": "@jupyter-widgets/controls",
      "_model_module_version": "1.5.0",
      "_view_count": null,
      "_view_module_version": "1.5.0",
      "box_style": "",
      "layout": "IPY_MODEL_a42baf1c85cd43219223471acfc044c9",
      "_model_module": "@jupyter-widgets/controls",
      "children": [
       "IPY_MODEL_9e6238ff8a1e4edf8f3e68e0106e4d62",
       "IPY_MODEL_2d8fc9b6e28c4e26b1db48e2ffda3438"
      ]
     }
    },
    "a42baf1c85cd43219223471acfc044c9": {
     "model_module": "@jupyter-widgets/base",
     "model_name": "LayoutModel",
     "state": {
      "_view_name": "LayoutView",
      "grid_template_rows": null,
      "right": null,
      "justify_content": null,
      "_view_module": "@jupyter-widgets/base",
      "overflow": null,
      "_model_module_version": "1.2.0",
      "_view_count": null,
      "flex_flow": null,
      "width": null,
      "min_width": null,
      "border": null,
      "align_items": null,
      "bottom": null,
      "_model_module": "@jupyter-widgets/base",
      "top": null,
      "grid_column": null,
      "overflow_y": null,
      "overflow_x": null,
      "grid_auto_flow": null,
      "grid_area": null,
      "grid_template_columns": null,
      "flex": null,
      "_model_name": "LayoutModel",
      "justify_items": null,
      "grid_row": null,
      "max_height": null,
      "align_content": null,
      "visibility": null,
      "align_self": null,
      "height": null,
      "min_height": null,
      "padding": null,
      "grid_auto_rows": null,
      "grid_gap": null,
      "max_width": null,
      "order": null,
      "_view_module_version": "1.2.0",
      "grid_template_areas": null,
      "object_position": null,
      "object_fit": null,
      "grid_auto_columns": null,
      "margin": null,
      "display": null,
      "left": null
     }
    },
    "9e6238ff8a1e4edf8f3e68e0106e4d62": {
     "model_module": "@jupyter-widgets/controls",
     "model_name": "FloatProgressModel",
     "state": {
      "_view_name": "ProgressView",
      "style": "IPY_MODEL_e15a5ee4f9264cae9fdd6c668a182bf4",
      "_dom_classes": [],
      "description": "Downloading: ",
      "_model_name": "FloatProgressModel",
      "bar_style": "success",
      "max": 1227,
      "_view_module": "@jupyter-widgets/controls",
      "_model_module_version": "1.5.0",
      "value": 1227,
      "_view_count": null,
      "_view_module_version": "1.5.0",
      "orientation": "horizontal",
      "min": 0,
      "description_tooltip": null,
      "_model_module": "@jupyter-widgets/controls",
      "layout": "IPY_MODEL_fa9a8fe8bed04c6c824d7d6d6fcecf9e"
     }
    },
    "2d8fc9b6e28c4e26b1db48e2ffda3438": {
     "model_module": "@jupyter-widgets/controls",
     "model_name": "HTMLModel",
     "state": {
      "_view_name": "HTMLView",
      "style": "IPY_MODEL_8ad020c0e40f46e2bf76b5f52cb52582",
      "_dom_classes": [],
      "description": "",
      "_model_name": "HTMLModel",
      "placeholder": "​",
      "_view_module": "@jupyter-widgets/controls",
      "_model_module_version": "1.5.0",
      "value": " 2.49k/? [00:01&lt;00:00, 2.29kB/s]",
      "_view_count": null,
      "_view_module_version": "1.5.0",
      "description_tooltip": null,
      "_model_module": "@jupyter-widgets/controls",
      "layout": "IPY_MODEL_733bef042d4f411ba617700fe861d098"
     }
    },
    "e15a5ee4f9264cae9fdd6c668a182bf4": {
     "model_module": "@jupyter-widgets/controls",
     "model_name": "ProgressStyleModel",
     "state": {
      "_view_name": "StyleView",
      "_model_name": "ProgressStyleModel",
      "description_width": "initial",
      "_view_module": "@jupyter-widgets/base",
      "_model_module_version": "1.5.0",
      "_view_count": null,
      "_view_module_version": "1.2.0",
      "bar_color": null,
      "_model_module": "@jupyter-widgets/controls"
     }
    },
    "fa9a8fe8bed04c6c824d7d6d6fcecf9e": {
     "model_module": "@jupyter-widgets/base",
     "model_name": "LayoutModel",
     "state": {
      "_view_name": "LayoutView",
      "grid_template_rows": null,
      "right": null,
      "justify_content": null,
      "_view_module": "@jupyter-widgets/base",
      "overflow": null,
      "_model_module_version": "1.2.0",
      "_view_count": null,
      "flex_flow": null,
      "width": null,
      "min_width": null,
      "border": null,
      "align_items": null,
      "bottom": null,
      "_model_module": "@jupyter-widgets/base",
      "top": null,
      "grid_column": null,
      "overflow_y": null,
      "overflow_x": null,
      "grid_auto_flow": null,
      "grid_area": null,
      "grid_template_columns": null,
      "flex": null,
      "_model_name": "LayoutModel",
      "justify_items": null,
      "grid_row": null,
      "max_height": null,
      "align_content": null,
      "visibility": null,
      "align_self": null,
      "height": null,
      "min_height": null,
      "padding": null,
      "grid_auto_rows": null,
      "grid_gap": null,
      "max_width": null,
      "order": null,
      "_view_module_version": "1.2.0",
      "grid_template_areas": null,
      "object_position": null,
      "object_fit": null,
      "grid_auto_columns": null,
      "margin": null,
      "display": null,
      "left": null
     }
    },
    "8ad020c0e40f46e2bf76b5f52cb52582": {
     "model_module": "@jupyter-widgets/controls",
     "model_name": "DescriptionStyleModel",
     "state": {
      "_view_name": "StyleView",
      "_model_name": "DescriptionStyleModel",
      "description_width": "",
      "_view_module": "@jupyter-widgets/base",
      "_model_module_version": "1.5.0",
      "_view_count": null,
      "_view_module_version": "1.2.0",
      "_model_module": "@jupyter-widgets/controls"
     }
    },
    "733bef042d4f411ba617700fe861d098": {
     "model_module": "@jupyter-widgets/base",
     "model_name": "LayoutModel",
     "state": {
      "_view_name": "LayoutView",
      "grid_template_rows": null,
      "right": null,
      "justify_content": null,
      "_view_module": "@jupyter-widgets/base",
      "overflow": null,
      "_model_module_version": "1.2.0",
      "_view_count": null,
      "flex_flow": null,
      "width": null,
      "min_width": null,
      "border": null,
      "align_items": null,
      "bottom": null,
      "_model_module": "@jupyter-widgets/base",
      "top": null,
      "grid_column": null,
      "overflow_y": null,
      "overflow_x": null,
      "grid_auto_flow": null,
      "grid_area": null,
      "grid_template_columns": null,
      "flex": null,
      "_model_name": "LayoutModel",
      "justify_items": null,
      "grid_row": null,
      "max_height": null,
      "align_content": null,
      "visibility": null,
      "align_self": null,
      "height": null,
      "min_height": null,
      "padding": null,
      "grid_auto_rows": null,
      "grid_gap": null,
      "max_width": null,
      "order": null,
      "_view_module_version": "1.2.0",
      "grid_template_areas": null,
      "object_position": null,
      "object_fit": null,
      "grid_auto_columns": null,
      "margin": null,
      "display": null,
      "left": null
     }
    },
    "9a7cfa994bf1436a8785f57acdd7f27c": {
     "model_module": "@jupyter-widgets/controls",
     "model_name": "HBoxModel",
     "state": {
      "_view_name": "HBoxView",
      "_dom_classes": [],
      "_model_name": "HBoxModel",
      "_view_module": "@jupyter-widgets/controls",
      "_model_module_version": "1.5.0",
      "_view_count": null,
      "_view_module_version": "1.5.0",
      "box_style": "",
      "layout": "IPY_MODEL_d72b6573e95a4c229048b028c007d5db",
      "_model_module": "@jupyter-widgets/controls",
      "children": [
       "IPY_MODEL_aca2d062030c49d3bc1344d6bf8d38e3",
       "IPY_MODEL_9e1f415079744e4eac13d7de2d7c064c"
      ]
     }
    },
    "d72b6573e95a4c229048b028c007d5db": {
     "model_module": "@jupyter-widgets/base",
     "model_name": "LayoutModel",
     "state": {
      "_view_name": "LayoutView",
      "grid_template_rows": null,
      "right": null,
      "justify_content": null,
      "_view_module": "@jupyter-widgets/base",
      "overflow": null,
      "_model_module_version": "1.2.0",
      "_view_count": null,
      "flex_flow": null,
      "width": null,
      "min_width": null,
      "border": null,
      "align_items": null,
      "bottom": null,
      "_model_module": "@jupyter-widgets/base",
      "top": null,
      "grid_column": null,
      "overflow_y": null,
      "overflow_x": null,
      "grid_auto_flow": null,
      "grid_area": null,
      "grid_template_columns": null,
      "flex": null,
      "_model_name": "LayoutModel",
      "justify_items": null,
      "grid_row": null,
      "max_height": null,
      "align_content": null,
      "visibility": null,
      "align_self": null,
      "height": null,
      "min_height": null,
      "padding": null,
      "grid_auto_rows": null,
      "grid_gap": null,
      "max_width": null,
      "order": null,
      "_view_module_version": "1.2.0",
      "grid_template_areas": null,
      "object_position": null,
      "object_fit": null,
      "grid_auto_columns": null,
      "margin": null,
      "display": null,
      "left": null
     }
    },
    "aca2d062030c49d3bc1344d6bf8d38e3": {
     "model_module": "@jupyter-widgets/controls",
     "model_name": "FloatProgressModel",
     "state": {
      "_view_name": "ProgressView",
      "style": "IPY_MODEL_4a47732e469642c48dfd5aa00a0a5857",
      "_dom_classes": [],
      "description": "Downloading: ",
      "_model_name": "FloatProgressModel",
      "bar_style": "success",
      "max": 11045148,
      "_view_module": "@jupyter-widgets/controls",
      "_model_module_version": "1.5.0",
      "value": 11045148,
      "_view_count": null,
      "_view_module_version": "1.5.0",
      "orientation": "horizontal",
      "min": 0,
      "description_tooltip": null,
      "_model_module": "@jupyter-widgets/controls",
      "layout": "IPY_MODEL_24537cf9f63e48379860c8e390774baa"
     }
    },
    "9e1f415079744e4eac13d7de2d7c064c": {
     "model_module": "@jupyter-widgets/controls",
     "model_name": "HTMLModel",
     "state": {
      "_view_name": "HTMLView",
      "style": "IPY_MODEL_151a25ebef6041aaa9c7ac4d2f806f18",
      "_dom_classes": [],
      "description": "",
      "_model_name": "HTMLModel",
      "placeholder": "​",
      "_view_module": "@jupyter-widgets/controls",
      "_model_module_version": "1.5.0",
      "value": " 29.5M/? [00:00&lt;00:00, 39.0MB/s]",
      "_view_count": null,
      "_view_module_version": "1.5.0",
      "description_tooltip": null,
      "_model_module": "@jupyter-widgets/controls",
      "layout": "IPY_MODEL_42419458921443c19d008266ab85ce5d"
     }
    },
    "4a47732e469642c48dfd5aa00a0a5857": {
     "model_module": "@jupyter-widgets/controls",
     "model_name": "ProgressStyleModel",
     "state": {
      "_view_name": "StyleView",
      "_model_name": "ProgressStyleModel",
      "description_width": "initial",
      "_view_module": "@jupyter-widgets/base",
      "_model_module_version": "1.5.0",
      "_view_count": null,
      "_view_module_version": "1.2.0",
      "bar_color": null,
      "_model_module": "@jupyter-widgets/controls"
     }
    },
    "24537cf9f63e48379860c8e390774baa": {
     "model_module": "@jupyter-widgets/base",
     "model_name": "LayoutModel",
     "state": {
      "_view_name": "LayoutView",
      "grid_template_rows": null,
      "right": null,
      "justify_content": null,
      "_view_module": "@jupyter-widgets/base",
      "overflow": null,
      "_model_module_version": "1.2.0",
      "_view_count": null,
      "flex_flow": null,
      "width": null,
      "min_width": null,
      "border": null,
      "align_items": null,
      "bottom": null,
      "_model_module": "@jupyter-widgets/base",
      "top": null,
      "grid_column": null,
      "overflow_y": null,
      "overflow_x": null,
      "grid_auto_flow": null,
      "grid_area": null,
      "grid_template_columns": null,
      "flex": null,
      "_model_name": "LayoutModel",
      "justify_items": null,
      "grid_row": null,
      "max_height": null,
      "align_content": null,
      "visibility": null,
      "align_self": null,
      "height": null,
      "min_height": null,
      "padding": null,
      "grid_auto_rows": null,
      "grid_gap": null,
      "max_width": null,
      "order": null,
      "_view_module_version": "1.2.0",
      "grid_template_areas": null,
      "object_position": null,
      "object_fit": null,
      "grid_auto_columns": null,
      "margin": null,
      "display": null,
      "left": null
     }
    },
    "151a25ebef6041aaa9c7ac4d2f806f18": {
     "model_module": "@jupyter-widgets/controls",
     "model_name": "DescriptionStyleModel",
     "state": {
      "_view_name": "StyleView",
      "_model_name": "DescriptionStyleModel",
      "description_width": "",
      "_view_module": "@jupyter-widgets/base",
      "_model_module_version": "1.5.0",
      "_view_count": null,
      "_view_module_version": "1.2.0",
      "_model_module": "@jupyter-widgets/controls"
     }
    },
    "42419458921443c19d008266ab85ce5d": {
     "model_module": "@jupyter-widgets/base",
     "model_name": "LayoutModel",
     "state": {
      "_view_name": "LayoutView",
      "grid_template_rows": null,
      "right": null,
      "justify_content": null,
      "_view_module": "@jupyter-widgets/base",
      "overflow": null,
      "_model_module_version": "1.2.0",
      "_view_count": null,
      "flex_flow": null,
      "width": null,
      "min_width": null,
      "border": null,
      "align_items": null,
      "bottom": null,
      "_model_module": "@jupyter-widgets/base",
      "top": null,
      "grid_column": null,
      "overflow_y": null,
      "overflow_x": null,
      "grid_auto_flow": null,
      "grid_area": null,
      "grid_template_columns": null,
      "flex": null,
      "_model_name": "LayoutModel",
      "justify_items": null,
      "grid_row": null,
      "max_height": null,
      "align_content": null,
      "visibility": null,
      "align_self": null,
      "height": null,
      "min_height": null,
      "padding": null,
      "grid_auto_rows": null,
      "grid_gap": null,
      "max_width": null,
      "order": null,
      "_view_module_version": "1.2.0",
      "grid_template_areas": null,
      "object_position": null,
      "object_fit": null,
      "grid_auto_columns": null,
      "margin": null,
      "display": null,
      "left": null
     }
    },
    "4d77adf72acf4206822fd9dd118beddf": {
     "model_module": "@jupyter-widgets/controls",
     "model_name": "HBoxModel",
     "state": {
      "_view_name": "HBoxView",
      "_dom_classes": [],
      "_model_name": "HBoxModel",
      "_view_module": "@jupyter-widgets/controls",
      "_model_module_version": "1.5.0",
      "_view_count": null,
      "_view_module_version": "1.5.0",
      "box_style": "",
      "layout": "IPY_MODEL_f736b19db9324fb3b93d55ef0118b647",
      "_model_module": "@jupyter-widgets/controls",
      "children": [
       "IPY_MODEL_f45a4c0be9394192b2732dfbacdd4133",
       "IPY_MODEL_3290e3dd7545459ca7a75e0f4389be7d"
      ]
     }
    },
    "f736b19db9324fb3b93d55ef0118b647": {
     "model_module": "@jupyter-widgets/base",
     "model_name": "LayoutModel",
     "state": {
      "_view_name": "LayoutView",
      "grid_template_rows": null,
      "right": null,
      "justify_content": null,
      "_view_module": "@jupyter-widgets/base",
      "overflow": null,
      "_model_module_version": "1.2.0",
      "_view_count": null,
      "flex_flow": null,
      "width": null,
      "min_width": null,
      "border": null,
      "align_items": null,
      "bottom": null,
      "_model_module": "@jupyter-widgets/base",
      "top": null,
      "grid_column": null,
      "overflow_y": null,
      "overflow_x": null,
      "grid_auto_flow": null,
      "grid_area": null,
      "grid_template_columns": null,
      "flex": null,
      "_model_name": "LayoutModel",
      "justify_items": null,
      "grid_row": null,
      "max_height": null,
      "align_content": null,
      "visibility": null,
      "align_self": null,
      "height": null,
      "min_height": null,
      "padding": null,
      "grid_auto_rows": null,
      "grid_gap": null,
      "max_width": null,
      "order": null,
      "_view_module_version": "1.2.0",
      "grid_template_areas": null,
      "object_position": null,
      "object_fit": null,
      "grid_auto_columns": null,
      "margin": null,
      "display": null,
      "left": null
     }
    },
    "f45a4c0be9394192b2732dfbacdd4133": {
     "model_module": "@jupyter-widgets/controls",
     "model_name": "FloatProgressModel",
     "state": {
      "_view_name": "ProgressView",
      "style": "IPY_MODEL_6bab34baa8734ced92f830e0b08c3098",
      "_dom_classes": [],
      "description": "Downloading: ",
      "_model_name": "FloatProgressModel",
      "bar_style": "success",
      "max": 751209,
      "_view_module": "@jupyter-widgets/controls",
      "_model_module_version": "1.5.0",
      "value": 751209,
      "_view_count": null,
      "_view_module_version": "1.5.0",
      "orientation": "horizontal",
      "min": 0,
      "description_tooltip": null,
      "_model_module": "@jupyter-widgets/controls",
      "layout": "IPY_MODEL_68cf05299b684333880eeb5808f74e89"
     }
    },
    "3290e3dd7545459ca7a75e0f4389be7d": {
     "model_module": "@jupyter-widgets/controls",
     "model_name": "HTMLModel",
     "state": {
      "_view_name": "HTMLView",
      "style": "IPY_MODEL_f9952060b1374e02bb029f7ff7523fa9",
      "_dom_classes": [],
      "description": "",
      "_model_name": "HTMLModel",
      "placeholder": "​",
      "_view_module": "@jupyter-widgets/controls",
      "_model_module_version": "1.5.0",
      "value": " 1.86M/? [00:03&lt;00:00, 588kB/s]",
      "_view_count": null,
      "_view_module_version": "1.5.0",
      "description_tooltip": null,
      "_model_module": "@jupyter-widgets/controls",
      "layout": "IPY_MODEL_97fbea8dca994c078ff60d031bb8562e"
     }
    },
    "6bab34baa8734ced92f830e0b08c3098": {
     "model_module": "@jupyter-widgets/controls",
     "model_name": "ProgressStyleModel",
     "state": {
      "_view_name": "StyleView",
      "_model_name": "ProgressStyleModel",
      "description_width": "initial",
      "_view_module": "@jupyter-widgets/base",
      "_model_module_version": "1.5.0",
      "_view_count": null,
      "_view_module_version": "1.2.0",
      "bar_color": null,
      "_model_module": "@jupyter-widgets/controls"
     }
    },
    "68cf05299b684333880eeb5808f74e89": {
     "model_module": "@jupyter-widgets/base",
     "model_name": "LayoutModel",
     "state": {
      "_view_name": "LayoutView",
      "grid_template_rows": null,
      "right": null,
      "justify_content": null,
      "_view_module": "@jupyter-widgets/base",
      "overflow": null,
      "_model_module_version": "1.2.0",
      "_view_count": null,
      "flex_flow": null,
      "width": null,
      "min_width": null,
      "border": null,
      "align_items": null,
      "bottom": null,
      "_model_module": "@jupyter-widgets/base",
      "top": null,
      "grid_column": null,
      "overflow_y": null,
      "overflow_x": null,
      "grid_auto_flow": null,
      "grid_area": null,
      "grid_template_columns": null,
      "flex": null,
      "_model_name": "LayoutModel",
      "justify_items": null,
      "grid_row": null,
      "max_height": null,
      "align_content": null,
      "visibility": null,
      "align_self": null,
      "height": null,
      "min_height": null,
      "padding": null,
      "grid_auto_rows": null,
      "grid_gap": null,
      "max_width": null,
      "order": null,
      "_view_module_version": "1.2.0",
      "grid_template_areas": null,
      "object_position": null,
      "object_fit": null,
      "grid_auto_columns": null,
      "margin": null,
      "display": null,
      "left": null
     }
    },
    "f9952060b1374e02bb029f7ff7523fa9": {
     "model_module": "@jupyter-widgets/controls",
     "model_name": "DescriptionStyleModel",
     "state": {
      "_view_name": "StyleView",
      "_model_name": "DescriptionStyleModel",
      "description_width": "",
      "_view_module": "@jupyter-widgets/base",
      "_model_module_version": "1.5.0",
      "_view_count": null,
      "_view_module_version": "1.2.0",
      "_model_module": "@jupyter-widgets/controls"
     }
    },
    "97fbea8dca994c078ff60d031bb8562e": {
     "model_module": "@jupyter-widgets/base",
     "model_name": "LayoutModel",
     "state": {
      "_view_name": "LayoutView",
      "grid_template_rows": null,
      "right": null,
      "justify_content": null,
      "_view_module": "@jupyter-widgets/base",
      "overflow": null,
      "_model_module_version": "1.2.0",
      "_view_count": null,
      "flex_flow": null,
      "width": null,
      "min_width": null,
      "border": null,
      "align_items": null,
      "bottom": null,
      "_model_module": "@jupyter-widgets/base",
      "top": null,
      "grid_column": null,
      "overflow_y": null,
      "overflow_x": null,
      "grid_auto_flow": null,
      "grid_area": null,
      "grid_template_columns": null,
      "flex": null,
      "_model_name": "LayoutModel",
      "justify_items": null,
      "grid_row": null,
      "max_height": null,
      "align_content": null,
      "visibility": null,
      "align_self": null,
      "height": null,
      "min_height": null,
      "padding": null,
      "grid_auto_rows": null,
      "grid_gap": null,
      "max_width": null,
      "order": null,
      "_view_module_version": "1.2.0",
      "grid_template_areas": null,
      "object_position": null,
      "object_fit": null,
      "grid_auto_columns": null,
      "margin": null,
      "display": null,
      "left": null
     }
    },
    "dec0713b07984ffd844e162e2d8c603b": {
     "model_module": "@jupyter-widgets/controls",
     "model_name": "HBoxModel",
     "state": {
      "_view_name": "HBoxView",
      "_dom_classes": [],
      "_model_name": "HBoxModel",
      "_view_module": "@jupyter-widgets/controls",
      "_model_module_version": "1.5.0",
      "_view_count": null,
      "_view_module_version": "1.5.0",
      "box_style": "",
      "layout": "IPY_MODEL_75d2197f5edb48eda78d892d16dbdeb5",
      "_model_module": "@jupyter-widgets/controls",
      "children": [
       "IPY_MODEL_6f0dd12b2024431587034c200bd29282",
       "IPY_MODEL_3b2989c661a34b419da206edb7b35f5f"
      ]
     }
    },
    "75d2197f5edb48eda78d892d16dbdeb5": {
     "model_module": "@jupyter-widgets/base",
     "model_name": "LayoutModel",
     "state": {
      "_view_name": "LayoutView",
      "grid_template_rows": null,
      "right": null,
      "justify_content": null,
      "_view_module": "@jupyter-widgets/base",
      "overflow": null,
      "_model_module_version": "1.2.0",
      "_view_count": null,
      "flex_flow": null,
      "width": null,
      "min_width": null,
      "border": null,
      "align_items": null,
      "bottom": null,
      "_model_module": "@jupyter-widgets/base",
      "top": null,
      "grid_column": null,
      "overflow_y": null,
      "overflow_x": null,
      "grid_auto_flow": null,
      "grid_area": null,
      "grid_template_columns": null,
      "flex": null,
      "_model_name": "LayoutModel",
      "justify_items": null,
      "grid_row": null,
      "max_height": null,
      "align_content": null,
      "visibility": null,
      "align_self": null,
      "height": null,
      "min_height": null,
      "padding": null,
      "grid_auto_rows": null,
      "grid_gap": null,
      "max_width": null,
      "order": null,
      "_view_module_version": "1.2.0",
      "grid_template_areas": null,
      "object_position": null,
      "object_fit": null,
      "grid_auto_columns": null,
      "margin": null,
      "display": null,
      "left": null
     }
    },
    "6f0dd12b2024431587034c200bd29282": {
     "model_module": "@jupyter-widgets/controls",
     "model_name": "FloatProgressModel",
     "state": {
      "_view_name": "ProgressView",
      "style": "IPY_MODEL_c242fcac0c2241c5ad9b2b462cd0514c",
      "_dom_classes": [],
      "description": "",
      "_model_name": "FloatProgressModel",
      "bar_style": "info",
      "max": 1,
      "_view_module": "@jupyter-widgets/controls",
      "_model_module_version": "1.5.0",
      "value": 1,
      "_view_count": null,
      "_view_module_version": "1.5.0",
      "orientation": "horizontal",
      "min": 0,
      "description_tooltip": null,
      "_model_module": "@jupyter-widgets/controls",
      "layout": "IPY_MODEL_23cf6d59c17f46d5b30a00c40ccd0b4e"
     }
    },
    "3b2989c661a34b419da206edb7b35f5f": {
     "model_module": "@jupyter-widgets/controls",
     "model_name": "HTMLModel",
     "state": {
      "_view_name": "HTMLView",
      "style": "IPY_MODEL_9b03ae5cde5546c1988e36ddb46f0528",
      "_dom_classes": [],
      "description": "",
      "_model_name": "HTMLModel",
      "placeholder": "​",
      "_view_module": "@jupyter-widgets/controls",
      "_model_module_version": "1.5.0",
      "value": " 120000/0 [00:05&lt;00:00, 370.00 examples/s]",
      "_view_count": null,
      "_view_module_version": "1.5.0",
      "description_tooltip": null,
      "_model_module": "@jupyter-widgets/controls",
      "layout": "IPY_MODEL_5c0e2de7fb774634807f782daf2b5dd7"
     }
    },
    "c242fcac0c2241c5ad9b2b462cd0514c": {
     "model_module": "@jupyter-widgets/controls",
     "model_name": "ProgressStyleModel",
     "state": {
      "_view_name": "StyleView",
      "_model_name": "ProgressStyleModel",
      "description_width": "initial",
      "_view_module": "@jupyter-widgets/base",
      "_model_module_version": "1.5.0",
      "_view_count": null,
      "_view_module_version": "1.2.0",
      "bar_color": null,
      "_model_module": "@jupyter-widgets/controls"
     }
    },
    "23cf6d59c17f46d5b30a00c40ccd0b4e": {
     "model_module": "@jupyter-widgets/base",
     "model_name": "LayoutModel",
     "state": {
      "_view_name": "LayoutView",
      "grid_template_rows": null,
      "right": null,
      "justify_content": null,
      "_view_module": "@jupyter-widgets/base",
      "overflow": null,
      "_model_module_version": "1.2.0",
      "_view_count": null,
      "flex_flow": null,
      "width": null,
      "min_width": null,
      "border": null,
      "align_items": null,
      "bottom": null,
      "_model_module": "@jupyter-widgets/base",
      "top": null,
      "grid_column": null,
      "overflow_y": null,
      "overflow_x": null,
      "grid_auto_flow": null,
      "grid_area": null,
      "grid_template_columns": null,
      "flex": null,
      "_model_name": "LayoutModel",
      "justify_items": null,
      "grid_row": null,
      "max_height": null,
      "align_content": null,
      "visibility": null,
      "align_self": null,
      "height": null,
      "min_height": null,
      "padding": null,
      "grid_auto_rows": null,
      "grid_gap": null,
      "max_width": null,
      "order": null,
      "_view_module_version": "1.2.0",
      "grid_template_areas": null,
      "object_position": null,
      "object_fit": null,
      "grid_auto_columns": null,
      "margin": null,
      "display": null,
      "left": null
     }
    },
    "9b03ae5cde5546c1988e36ddb46f0528": {
     "model_module": "@jupyter-widgets/controls",
     "model_name": "DescriptionStyleModel",
     "state": {
      "_view_name": "StyleView",
      "_model_name": "DescriptionStyleModel",
      "description_width": "",
      "_view_module": "@jupyter-widgets/base",
      "_model_module_version": "1.5.0",
      "_view_count": null,
      "_view_module_version": "1.2.0",
      "_model_module": "@jupyter-widgets/controls"
     }
    },
    "5c0e2de7fb774634807f782daf2b5dd7": {
     "model_module": "@jupyter-widgets/base",
     "model_name": "LayoutModel",
     "state": {
      "_view_name": "LayoutView",
      "grid_template_rows": null,
      "right": null,
      "justify_content": null,
      "_view_module": "@jupyter-widgets/base",
      "overflow": null,
      "_model_module_version": "1.2.0",
      "_view_count": null,
      "flex_flow": null,
      "width": null,
      "min_width": null,
      "border": null,
      "align_items": null,
      "bottom": null,
      "_model_module": "@jupyter-widgets/base",
      "top": null,
      "grid_column": null,
      "overflow_y": null,
      "overflow_x": null,
      "grid_auto_flow": null,
      "grid_area": null,
      "grid_template_columns": null,
      "flex": null,
      "_model_name": "LayoutModel",
      "justify_items": null,
      "grid_row": null,
      "max_height": null,
      "align_content": null,
      "visibility": null,
      "align_self": null,
      "height": null,
      "min_height": null,
      "padding": null,
      "grid_auto_rows": null,
      "grid_gap": null,
      "max_width": null,
      "order": null,
      "_view_module_version": "1.2.0",
      "grid_template_areas": null,
      "object_position": null,
      "object_fit": null,
      "grid_auto_columns": null,
      "margin": null,
      "display": null,
      "left": null
     }
    },
    "8198f3a728ec4ec9876875a236846a7d": {
     "model_module": "@jupyter-widgets/controls",
     "model_name": "HBoxModel",
     "state": {
      "_view_name": "HBoxView",
      "_dom_classes": [],
      "_model_name": "HBoxModel",
      "_view_module": "@jupyter-widgets/controls",
      "_model_module_version": "1.5.0",
      "_view_count": null,
      "_view_module_version": "1.5.0",
      "box_style": "",
      "layout": "IPY_MODEL_5a7499aad4d24866b8a902dae469f413",
      "_model_module": "@jupyter-widgets/controls",
      "children": [
       "IPY_MODEL_43de450d3ad0465e991095519030e4aa",
       "IPY_MODEL_2cf90df3b4284ae6823399961883fa56"
      ]
     }
    },
    "5a7499aad4d24866b8a902dae469f413": {
     "model_module": "@jupyter-widgets/base",
     "model_name": "LayoutModel",
     "state": {
      "_view_name": "LayoutView",
      "grid_template_rows": null,
      "right": null,
      "justify_content": null,
      "_view_module": "@jupyter-widgets/base",
      "overflow": null,
      "_model_module_version": "1.2.0",
      "_view_count": null,
      "flex_flow": null,
      "width": null,
      "min_width": null,
      "border": null,
      "align_items": null,
      "bottom": null,
      "_model_module": "@jupyter-widgets/base",
      "top": null,
      "grid_column": null,
      "overflow_y": null,
      "overflow_x": null,
      "grid_auto_flow": null,
      "grid_area": null,
      "grid_template_columns": null,
      "flex": null,
      "_model_name": "LayoutModel",
      "justify_items": null,
      "grid_row": null,
      "max_height": null,
      "align_content": null,
      "visibility": null,
      "align_self": null,
      "height": null,
      "min_height": null,
      "padding": null,
      "grid_auto_rows": null,
      "grid_gap": null,
      "max_width": null,
      "order": null,
      "_view_module_version": "1.2.0",
      "grid_template_areas": null,
      "object_position": null,
      "object_fit": null,
      "grid_auto_columns": null,
      "margin": null,
      "display": null,
      "left": null
     }
    },
    "43de450d3ad0465e991095519030e4aa": {
     "model_module": "@jupyter-widgets/controls",
     "model_name": "FloatProgressModel",
     "state": {
      "_view_name": "ProgressView",
      "style": "IPY_MODEL_00a41ed4fd5f4eefba9c52d1522a93cf",
      "_dom_classes": [],
      "description": "",
      "_model_name": "FloatProgressModel",
      "bar_style": "info",
      "max": 1,
      "_view_module": "@jupyter-widgets/controls",
      "_model_module_version": "1.5.0",
      "value": 1,
      "_view_count": null,
      "_view_module_version": "1.5.0",
      "orientation": "horizontal",
      "min": 0,
      "description_tooltip": null,
      "_model_module": "@jupyter-widgets/controls",
      "layout": "IPY_MODEL_598bab7253544e1bbc769967dbc8d0e4"
     }
    },
    "2cf90df3b4284ae6823399961883fa56": {
     "model_module": "@jupyter-widgets/controls",
     "model_name": "HTMLModel",
     "state": {
      "_view_name": "HTMLView",
      "style": "IPY_MODEL_4f1addacda4e48e0b968d4b3df653784",
      "_dom_classes": [],
      "description": "",
      "_model_name": "HTMLModel",
      "placeholder": "​",
      "_view_module": "@jupyter-widgets/controls",
      "_model_module_version": "1.5.0",
      "value": " 7600/0 [00:00&lt;00:00, 37539.95 examples/s]",
      "_view_count": null,
      "_view_module_version": "1.5.0",
      "description_tooltip": null,
      "_model_module": "@jupyter-widgets/controls",
      "layout": "IPY_MODEL_86f881fd4aa349d094a42f2589d70920"
     }
    },
    "00a41ed4fd5f4eefba9c52d1522a93cf": {
     "model_module": "@jupyter-widgets/controls",
     "model_name": "ProgressStyleModel",
     "state": {
      "_view_name": "StyleView",
      "_model_name": "ProgressStyleModel",
      "description_width": "initial",
      "_view_module": "@jupyter-widgets/base",
      "_model_module_version": "1.5.0",
      "_view_count": null,
      "_view_module_version": "1.2.0",
      "bar_color": null,
      "_model_module": "@jupyter-widgets/controls"
     }
    },
    "598bab7253544e1bbc769967dbc8d0e4": {
     "model_module": "@jupyter-widgets/base",
     "model_name": "LayoutModel",
     "state": {
      "_view_name": "LayoutView",
      "grid_template_rows": null,
      "right": null,
      "justify_content": null,
      "_view_module": "@jupyter-widgets/base",
      "overflow": null,
      "_model_module_version": "1.2.0",
      "_view_count": null,
      "flex_flow": null,
      "width": null,
      "min_width": null,
      "border": null,
      "align_items": null,
      "bottom": null,
      "_model_module": "@jupyter-widgets/base",
      "top": null,
      "grid_column": null,
      "overflow_y": null,
      "overflow_x": null,
      "grid_auto_flow": null,
      "grid_area": null,
      "grid_template_columns": null,
      "flex": null,
      "_model_name": "LayoutModel",
      "justify_items": null,
      "grid_row": null,
      "max_height": null,
      "align_content": null,
      "visibility": null,
      "align_self": null,
      "height": null,
      "min_height": null,
      "padding": null,
      "grid_auto_rows": null,
      "grid_gap": null,
      "max_width": null,
      "order": null,
      "_view_module_version": "1.2.0",
      "grid_template_areas": null,
      "object_position": null,
      "object_fit": null,
      "grid_auto_columns": null,
      "margin": null,
      "display": null,
      "left": null
     }
    },
    "4f1addacda4e48e0b968d4b3df653784": {
     "model_module": "@jupyter-widgets/controls",
     "model_name": "DescriptionStyleModel",
     "state": {
      "_view_name": "StyleView",
      "_model_name": "DescriptionStyleModel",
      "description_width": "",
      "_view_module": "@jupyter-widgets/base",
      "_model_module_version": "1.5.0",
      "_view_count": null,
      "_view_module_version": "1.2.0",
      "_model_module": "@jupyter-widgets/controls"
     }
    },
    "86f881fd4aa349d094a42f2589d70920": {
     "model_module": "@jupyter-widgets/base",
     "model_name": "LayoutModel",
     "state": {
      "_view_name": "LayoutView",
      "grid_template_rows": null,
      "right": null,
      "justify_content": null,
      "_view_module": "@jupyter-widgets/base",
      "overflow": null,
      "_model_module_version": "1.2.0",
      "_view_count": null,
      "flex_flow": null,
      "width": null,
      "min_width": null,
      "border": null,
      "align_items": null,
      "bottom": null,
      "_model_module": "@jupyter-widgets/base",
      "top": null,
      "grid_column": null,
      "overflow_y": null,
      "overflow_x": null,
      "grid_auto_flow": null,
      "grid_area": null,
      "grid_template_columns": null,
      "flex": null,
      "_model_name": "LayoutModel",
      "justify_items": null,
      "grid_row": null,
      "max_height": null,
      "align_content": null,
      "visibility": null,
      "align_self": null,
      "height": null,
      "min_height": null,
      "padding": null,
      "grid_auto_rows": null,
      "grid_gap": null,
      "max_width": null,
      "order": null,
      "_view_module_version": "1.2.0",
      "grid_template_areas": null,
      "object_position": null,
      "object_fit": null,
      "grid_auto_columns": null,
      "margin": null,
      "display": null,
      "left": null
     }
    }
   }
  }
 },
 "cells": [
  {
   "cell_type": "markdown",
   "metadata": {
    "collapsed": false,
    "id": "se-rFOfb3ssr"
   },
   "source": [
    "You can run this notebook in Google Colab by right-clicking on the badge below, and opening the link in a new tab.\n",
    "\n",
    "[![Open In Colab](https://colab.research.google.com/assets/colab-badge.svg)](https://colab.research.google.com/github/KieranLitschel/XSWEM/blob/main/notebooks/local_explain_most_salient_words.ipynb)"
   ]
  },
  {
   "cell_type": "markdown",
   "metadata": {
    "id": "kTwFe_5XQXjE"
   },
   "source": [
    "# Introduction\n",
    "\n",
    "In this notebook we demonstrate the local_explain_most_salient_words method using the [ag_news](https://huggingface.co/datasets/viewer/?dataset=ag_news) datasets. As the name suggests, this method gives a local explanation from the trained model for an input sentence. It does this by returning the words the model shortlists (the learnt most salient words) from the input sentence in order to make a prediction.\n",
    "\n",
    "First lets explain how it works. We'll explain this using the diagram below. It shows how our model processes and makes a prediction for a sample from our test set. The dotted line shows that we take the output of the embedding block to determine the most salient words. In the next two sections we'll explain this diagram in more detail.\n",
    "\n",
    "\n",
    "![local_explain_most_salient_words.png](data:image/png;base64,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)\n",
    "\n",
    "## How we make a prediction for the sample\n",
    "\n",
    "First we pre-process the sample outside of the model, tokenizing the sample and only keeping the unique tokens (SWEM-max is invariant to word order and frequency). The tokenized sample is input into the model.\n",
    "\n",
    "The embedding block maps the tokens to their corresponding word embedding vectors (henceforth we abreviate these as word embeddings). The block also adapts embeddings if this is specified in the models constructor. The output of the embedding block is a matrix. There is a row in the matrix for each word embedding. In our case the matrix has 24 rows as we have 24 tokens in our pre-processed sample. The number of columns is equal to the embedding_size \n",
    "specified in the model constructor. In our example the embedding_size is 10, so we have 10 columns.\n",
    "\n",
    "We apply a max-pooling layer to the columns of the embeddings matrix. This reduces the matrix to a feature vector with embedding_size components. As described by Shen et al. in the original paper, the max-pooling layer extracts the most salient features from the word embeddings. \n",
    "\n",
    "We then apply the output layer to the feature vector to make a prediction for the sample. As this is a multiclass classification problem, with 4 possible classes, our output layer is a dense layer with 4 units and a softmax activation function. In the case of this sample, the model correctly predicts the most likely class as \"Sport\".\n",
    "\n",
    "## How we reduce the sample to the most salient words\n",
    "\n",
    "Our local_explain_most_salient_words method takes as input a tokenized sample. We then apply the embedding block to the tokens to produce the embedding matrix.\n",
    "\n",
    "But instead of applying max-pooling to the columns of the embeddings matrix, we take the argmax of the columns. This gives us the position of the largest value in each column. This is the output of the \"arg-max-pooling\" layer in the diagram below. We can then reverse lookup the word that corresponds to each position in the matrix, and map the positions back to words in the models vocabulary. These words are the output of our local explain method.\n",
    "\n",
    "The max-pooling layer extracts the most salient features of the input sequence. For our model, each of these features can be traced back to a single word, which is what we do for this local explain method. The model has learnt that these words are the most salient for predicting the class of the input sample.\n"
   ]
  },
  {
   "cell_type": "markdown",
   "metadata": {
    "collapsed": false,
    "id": "nmcTgQHG3ss0"
   },
   "source": [
    "# Example Code\n",
    "\n",
    "Install XSWEM and [Hugging Face datasets](https://github.com/huggingface/datasets)."
   ]
  },
  {
   "cell_type": "code",
   "metadata": {
    "pycharm": {
     "name": "#%%\n"
    },
    "id": "BNhnEW8D3ss2"
   },
   "source": [
    "!pip install xswem\n",
    "!pip install datasets"
   ],
   "execution_count": null,
   "outputs": []
  },
  {
   "cell_type": "markdown",
   "metadata": {
    "id": "5FiWYLdj1_LE"
   },
   "source": [
    "Make this notebook deterministic."
   ]
  },
  {
   "cell_type": "code",
   "metadata": {
    "id": "iK-SetLf1_LF"
   },
   "source": [
    "RANDOM_SEED = 0\n",
    "\n",
    "# Python RNG\n",
    "import random\n",
    "random.seed(RANDOM_SEED)\n",
    "\n",
    "# Numpy RNG\n",
    "import numpy as np\n",
    "np.random.seed(RANDOM_SEED)\n",
    "\n",
    "# TF RNG\n",
    "import tensorflow as tf\n",
    "from tensorflow.python.framework import random_seed\n",
    "random_seed.set_seed(RANDOM_SEED)"
   ],
   "execution_count": 2,
   "outputs": []
  },
  {
   "cell_type": "markdown",
   "metadata": {
    "id": "HZqQuFF4gH_X"
   },
   "source": [
    "Import the necessary modules."
   ]
  },
  {
   "cell_type": "code",
   "metadata": {
    "id": "FeltIbDDgHLV"
   },
   "source": [
    "from xswem.model import XSWEM\n",
    "from datasets import load_dataset\n",
    "from tensorflow.keras.preprocessing.text import Tokenizer\n",
    "from tensorflow.data import Dataset"
   ],
   "execution_count": 3,
   "outputs": []
  },
  {
   "cell_type": "markdown",
   "metadata": {
    "id": "TURK2Q2G1_LF"
   },
   "source": [
    "Load and shuffle the dataset. We keep 10% of the training set for validation."
   ]
  },
  {
   "cell_type": "code",
   "metadata": {
    "colab": {
     "base_uri": "https://localhost:8080/",
     "height": 264,
     "referenced_widgets": [
      "baf1c6b067a1455cb6c71c0928517378",
      "68d59c10917e4818ad4ce9489028933a",
      "22c382ec85ca46cab3f89073e98a45c4",
      "6ccafa3af2124191b6e3076faf76e388",
      "00cd43a38d154588b34143d1c894ccd8",
      "4c43c4b2933f4fd391a73488d105ee92",
      "cd62f15066e440dfbcd757df213f2ec1",
      "c1cb775a0b5b4f58b9da1ac7cbf861e9",
      "b3439c020b7c4994a6604ee8901a18d6",
      "a42baf1c85cd43219223471acfc044c9",
      "9e6238ff8a1e4edf8f3e68e0106e4d62",
      "2d8fc9b6e28c4e26b1db48e2ffda3438",
      "e15a5ee4f9264cae9fdd6c668a182bf4",
      "fa9a8fe8bed04c6c824d7d6d6fcecf9e",
      "8ad020c0e40f46e2bf76b5f52cb52582",
      "733bef042d4f411ba617700fe861d098",
      "9a7cfa994bf1436a8785f57acdd7f27c",
      "d72b6573e95a4c229048b028c007d5db",
      "aca2d062030c49d3bc1344d6bf8d38e3",
      "9e1f415079744e4eac13d7de2d7c064c",
      "4a47732e469642c48dfd5aa00a0a5857",
      "24537cf9f63e48379860c8e390774baa",
      "151a25ebef6041aaa9c7ac4d2f806f18",
      "42419458921443c19d008266ab85ce5d",
      "4d77adf72acf4206822fd9dd118beddf",
      "f736b19db9324fb3b93d55ef0118b647",
      "f45a4c0be9394192b2732dfbacdd4133",
      "3290e3dd7545459ca7a75e0f4389be7d",
      "6bab34baa8734ced92f830e0b08c3098",
      "68cf05299b684333880eeb5808f74e89",
      "f9952060b1374e02bb029f7ff7523fa9",
      "97fbea8dca994c078ff60d031bb8562e",
      "dec0713b07984ffd844e162e2d8c603b",
      "75d2197f5edb48eda78d892d16dbdeb5",
      "6f0dd12b2024431587034c200bd29282",
      "3b2989c661a34b419da206edb7b35f5f",
      "c242fcac0c2241c5ad9b2b462cd0514c",
      "23cf6d59c17f46d5b30a00c40ccd0b4e",
      "9b03ae5cde5546c1988e36ddb46f0528",
      "5c0e2de7fb774634807f782daf2b5dd7",
      "8198f3a728ec4ec9876875a236846a7d",
      "5a7499aad4d24866b8a902dae469f413",
      "43de450d3ad0465e991095519030e4aa",
      "2cf90df3b4284ae6823399961883fa56",
      "00a41ed4fd5f4eefba9c52d1522a93cf",
      "598bab7253544e1bbc769967dbc8d0e4",
      "4f1addacda4e48e0b968d4b3df653784",
      "86f881fd4aa349d094a42f2589d70920"
     ]
    },
    "id": "WKXF40_l1_LG",
    "outputId": "502e29cc-120e-42ee-ada1-204de779595e"
   },
   "source": [
    "ag_news = load_dataset('ag_news')\n",
    "ag_news = ag_news.shuffle({\"train\":RANDOM_SEED,\"test\":RANDOM_SEED})\n",
    "ag_news[\"train\"] = ag_news[\"train\"].train_test_split(test_size=0.1,seed=RANDOM_SEED)\n",
    "ag_news_train, ag_news_valid = ag_news[\"train\"][\"train\"], ag_news[\"train\"][\"test\"]\n",
    "X, y = ag_news_train[\"text\"], ag_news_train[\"label\"]\n",
    "X_valid, y_valid = ag_news_valid[\"text\"], ag_news_valid[\"label\"]\n",
    "ag_news_test = ag_news[\"test\"]\n",
    "X_test, y_test = ag_news_test[\"text\"], ag_news_test[\"label\"]"
   ],
   "execution_count": 4,
   "outputs": [
    {
     "output_type": "display_data",
     "data": {
      "application/vnd.jupyter.widget-view+json": {
       "model_id": "baf1c6b067a1455cb6c71c0928517378",
       "version_minor": 0,
       "version_major": 2
      },
      "text/plain": [
       "HBox(children=(FloatProgress(value=0.0, description='Downloading', max=1817.0, style=ProgressStyle(description…"
      ]
     },
     "metadata": {
      "tags": []
     }
    },
    {
     "output_type": "stream",
     "text": [
      "\n"
     ],
     "name": "stdout"
    },
    {
     "output_type": "display_data",
     "data": {
      "application/vnd.jupyter.widget-view+json": {
       "model_id": "b3439c020b7c4994a6604ee8901a18d6",
       "version_minor": 0,
       "version_major": 2
      },
      "text/plain": [
       "HBox(children=(FloatProgress(value=0.0, description='Downloading', max=1227.0, style=ProgressStyle(description…"
      ]
     },
     "metadata": {
      "tags": []
     }
    },
    {
     "output_type": "stream",
     "text": [
      "Using custom data configuration default\n"
     ],
     "name": "stderr"
    },
    {
     "output_type": "stream",
     "text": [
      "\n",
      "Downloading and preparing dataset ag_news/default (download: 29.88 MiB, generated: 30.23 MiB, post-processed: Unknown size, total: 60.10 MiB) to /root/.cache/huggingface/datasets/ag_news/default/0.0.0/fb5c5e74a110037311ef5e904583ce9f8b9fbc1354290f97b4929f01b3f48b1a...\n"
     ],
     "name": "stdout"
    },
    {
     "output_type": "display_data",
     "data": {
      "application/vnd.jupyter.widget-view+json": {
       "model_id": "9a7cfa994bf1436a8785f57acdd7f27c",
       "version_minor": 0,
       "version_major": 2
      },
      "text/plain": [
       "HBox(children=(FloatProgress(value=0.0, description='Downloading', max=11045148.0, style=ProgressStyle(descrip…"
      ]
     },
     "metadata": {
      "tags": []
     }
    },
    {
     "output_type": "stream",
     "text": [
      "\n"
     ],
     "name": "stdout"
    },
    {
     "output_type": "display_data",
     "data": {
      "application/vnd.jupyter.widget-view+json": {
       "model_id": "4d77adf72acf4206822fd9dd118beddf",
       "version_minor": 0,
       "version_major": 2
      },
      "text/plain": [
       "HBox(children=(FloatProgress(value=0.0, description='Downloading', max=751209.0, style=ProgressStyle(descripti…"
      ]
     },
     "metadata": {
      "tags": []
     }
    },
    {
     "output_type": "stream",
     "text": [
      "\n"
     ],
     "name": "stdout"
    },
    {
     "output_type": "display_data",
     "data": {
      "application/vnd.jupyter.widget-view+json": {
       "model_id": "dec0713b07984ffd844e162e2d8c603b",
       "version_minor": 0,
       "version_major": 2
      },
      "text/plain": [
       "HBox(children=(FloatProgress(value=1.0, bar_style='info', max=1.0), HTML(value='')))"
      ]
     },
     "metadata": {
      "tags": []
     }
    },
    {
     "output_type": "stream",
     "text": [
      "\r"
     ],
     "name": "stdout"
    },
    {
     "output_type": "display_data",
     "data": {
      "application/vnd.jupyter.widget-view+json": {
       "model_id": "8198f3a728ec4ec9876875a236846a7d",
       "version_minor": 0,
       "version_major": 2
      },
      "text/plain": [
       "HBox(children=(FloatProgress(value=1.0, bar_style='info', max=1.0), HTML(value='')))"
      ]
     },
     "metadata": {
      "tags": []
     }
    },
    {
     "output_type": "stream",
     "text": [
      "\rDataset ag_news downloaded and prepared to /root/.cache/huggingface/datasets/ag_news/default/0.0.0/fb5c5e74a110037311ef5e904583ce9f8b9fbc1354290f97b4929f01b3f48b1a. Subsequent calls will reuse this data.\n"
     ],
     "name": "stdout"
    }
   ]
  },
  {
   "cell_type": "markdown",
   "metadata": {
    "id": "lRiR4MAZc8wp"
   },
   "source": [
    "Build the tokenizer."
   ]
  },
  {
   "cell_type": "code",
   "metadata": {
    "id": "6ZHrhk-9c9PD"
   },
   "source": [
    "NUM_WORDS = 16000\n",
    "FILTERS = '!\"#$%&()*+,-./:;<=>?@[\\\\]^_`{|}~\\t\\n0123456789'\n",
    "tokenizer = Tokenizer(num_words=NUM_WORDS, oov_token=\"UNK\", filters=FILTERS)\n",
    "tokenizer.fit_on_texts(X)\n",
    "vocab_map = {i+1: tokenizer.index_word[i+1] for i in range(NUM_WORDS)}\n",
    "output_map = {0: \"World\", 1: \"Sport\", 2: \"Business\", 3: \"Tech\"}"
   ],
   "execution_count": 5,
   "outputs": []
  },
  {
   "cell_type": "markdown",
   "metadata": {
    "id": "zSxUALxTzgJl"
   },
   "source": [
    "Build the dataset pipeline."
   ]
  },
  {
   "cell_type": "code",
   "metadata": {
    "id": "8VrddGHtzhTg"
   },
   "source": [
    "BATCH_SIZE = 32\n",
    "NUM_LABELS = len(output_map)\n",
    "\n",
    "train_dataset = Dataset.from_tensor_slices((X,y))\n",
    "valid_dataset = Dataset.from_tensor_slices((X_valid,y_valid))\n",
    "test_dataset = Dataset.from_tensor_slices((X_test,y_test))\n",
    "\n",
    "# shuffle the train datasets\n",
    "train_dataset = train_dataset.shuffle(BATCH_SIZE*2)\n",
    "\n",
    "# tokenize the text and one hot encode the labels\n",
    "# we only keep unique tokens as XSWEM is invariant to token frequency and order\n",
    "tokenize = lambda text, label: (tf.py_function(lambda text: np.unique(tokenizer.texts_to_sequences([str(text.numpy())])[0]), inp=[text], Tout=tf.int32), tf.one_hot(label,NUM_LABELS))\n",
    "train_dataset = train_dataset.map(tokenize,num_parallel_calls=tf.data.experimental.AUTOTUNE)\n",
    "valid_dataset = valid_dataset.map(tokenize,num_parallel_calls=tf.data.experimental.AUTOTUNE)\n",
    "test_dataset = test_dataset.map(tokenize,num_parallel_calls=tf.data.experimental.AUTOTUNE)\n",
    "\n",
    "# pre-fetch so that GPU spends less time waiting\n",
    "train_dataset = train_dataset.prefetch(tf.data.experimental.AUTOTUNE)\n",
    "valid_dataset = valid_dataset.prefetch(tf.data.experimental.AUTOTUNE)\n",
    "test_dataset = test_dataset.prefetch(tf.data.experimental.AUTOTUNE)\n",
    "\n",
    "# padded batch allows us to handle varying sentence lengths\n",
    "train_dataset = train_dataset.padded_batch(BATCH_SIZE,padded_shapes=([None],[NUM_LABELS]))\n",
    "valid_dataset = valid_dataset.padded_batch(BATCH_SIZE,padded_shapes=([None],[NUM_LABELS]))\n",
    "test_dataset = test_dataset.padded_batch(1,padded_shapes=([None],[NUM_LABELS]))"
   ],
   "execution_count": 6,
   "outputs": []
  },
  {
   "cell_type": "markdown",
   "metadata": {
    "id": "zp_q4YY-1_LJ"
   },
   "source": [
    "Build XSWEM model. In this notebook we use an embedding_size of 10 so that at maximum our local explain method will return 10 words."
   ]
  },
  {
   "cell_type": "code",
   "metadata": {
    "id": "ZHirkOJk1_LK"
   },
   "source": [
    "model = XSWEM(10, \"softmax\", vocab_map, output_map, mask_zero=True)\n",
    "optimizer = tf.keras.optimizers.SGD(learning_rate=5e-1)\n",
    "model.compile(optimizer, loss=\"categorical_crossentropy\", metrics=\"accuracy\")"
   ],
   "execution_count": 7,
   "outputs": []
  },
  {
   "cell_type": "markdown",
   "metadata": {
    "id": "aJzGyYIw1_LL"
   },
   "source": [
    "Train XSWEM model."
   ]
  },
  {
   "cell_type": "code",
   "metadata": {
    "colab": {
     "base_uri": "https://localhost:8080/"
    },
    "id": "bPDuVH7E1_LM",
    "outputId": "69d2445e-10fc-453a-93df-ccc2a55e1a21"
   },
   "source": [
    "model.fit(train_dataset, validation_data=valid_dataset, callbacks=[tf.keras.callbacks.EarlyStopping('val_accuracy', restore_best_weights=True)], epochs=20)"
   ],
   "execution_count": 8,
   "outputs": [
    {
     "output_type": "stream",
     "text": [
      "Epoch 1/20\n",
      "3375/3375 [==============================] - 61s 17ms/step - loss: 0.6857 - accuracy: 0.7461 - val_loss: 0.3508 - val_accuracy: 0.8791\n",
      "Epoch 2/20\n",
      "3375/3375 [==============================] - 59s 17ms/step - loss: 0.3230 - accuracy: 0.8909 - val_loss: 0.3185 - val_accuracy: 0.8917\n",
      "Epoch 3/20\n",
      "3375/3375 [==============================] - 58s 17ms/step - loss: 0.2685 - accuracy: 0.9083 - val_loss: 0.3102 - val_accuracy: 0.8949\n",
      "Epoch 4/20\n",
      "3375/3375 [==============================] - 58s 17ms/step - loss: 0.2362 - accuracy: 0.9197 - val_loss: 0.3163 - val_accuracy: 0.8960\n",
      "Epoch 5/20\n",
      "3375/3375 [==============================] - 58s 17ms/step - loss: 0.2135 - accuracy: 0.9275 - val_loss: 0.3251 - val_accuracy: 0.8957\n"
     ],
     "name": "stdout"
    },
    {
     "output_type": "execute_result",
     "data": {
      "text/plain": [
       "<tensorflow.python.keras.callbacks.History at 0x7fe5cfc77a58>"
      ]
     },
     "metadata": {
      "tags": []
     },
     "execution_count": 8
    }
   ]
  },
  {
   "cell_type": "markdown",
   "metadata": {
    "id": "Z6LVE4TdeTuN"
   },
   "source": [
    "Test XSWEM model."
   ]
  },
  {
   "cell_type": "code",
   "metadata": {
    "id": "hlsFjVmdCzW1",
    "colab": {
     "base_uri": "https://localhost:8080/"
    },
    "outputId": "4d500b2c-5c34-4bf5-f88d-6c3a357f8332"
   },
   "source": [
    "model.evaluate(test_dataset)"
   ],
   "execution_count": 9,
   "outputs": [
    {
     "output_type": "stream",
     "text": [
      "7600/7600 [==============================] - 17s 2ms/step - loss: 0.3453 - accuracy: 0.8892\n"
     ],
     "name": "stdout"
    },
    {
     "output_type": "execute_result",
     "data": {
      "text/plain": [
       "[0.34532564878463745, 0.8892105221748352]"
      ]
     },
     "metadata": {
      "tags": []
     },
     "execution_count": 9
    }
   ]
  },
  {
   "cell_type": "code",
   "metadata": {
    "id": "sqIokiy8Hupr"
   },
   "source": [
    "test_preprocess = list(test_dataset.take(10))\n",
    "\n",
    "def show_example(sample_no):\n",
    "    print(X_test[sample_no])\n",
    "    sample_input = test_preprocess[sample_no][0]\n",
    "    predicted_label = output_map[np.argmax(model.predict(sample_input))]\n",
    "    actual_label = output_map[y_test[sample_no]]\n",
    "    print(\"Predicted label: {0}\\nActual label: {1}\".format(predicted_label, actual_label))\n",
    "    print(\"Most salient words: \", model.local_explain_most_salient_words(sample_input.numpy()[0]))"
   ],
   "execution_count": 10,
   "outputs": []
  },
  {
   "cell_type": "markdown",
   "metadata": {
    "id": "YSfbCqJTNdAN"
   },
   "source": [
    "Below we show the output of local_explain_most_salient_words for the first 10 sentences in the test set. In each cell the first line is the raw sentence before pre-processing, the second line is the label predicted by the model, the third line is the true label, and the fourth line is the most salient words extracted using our method.\n",
    "\n",
    "To see the most salient words by index you can specify \"by_index=True\" as a keyword argument for the local_explain method. If the argument is not specified, by_index is False, meaning we show the unique most salient words sorted alphabetically."
   ]
  },
  {
   "cell_type": "code",
   "metadata": {
    "colab": {
     "base_uri": "https://localhost:8080/"
    },
    "id": "LPlSV_UnJN_I",
    "outputId": "fb4d5547-2a19-4df1-e958-714a9c74cb00"
   },
   "source": [
    "show_example(0)"
   ],
   "execution_count": 11,
   "outputs": [
    {
     "output_type": "stream",
     "text": [
      "McTeer: Lonesome Dove to be an Aggie NEW YORK (CNN/Money) - A New Economy champion, a lover of the Texas picker poets who write lovesick country songs...and, oh, by the way, a member of the Federal Reserve system for 36 years.\n",
      "Predicted label: Business\n",
      "Actual label: Business\n",
      "Most salient words:  ['cnn' 'economy' 'federal' 'lover' 'reserve' 'write']\n"
     ],
     "name": "stdout"
    }
   ]
  },
  {
   "cell_type": "code",
   "metadata": {
    "colab": {
     "base_uri": "https://localhost:8080/"
    },
    "id": "mSbm9IJ4L5wk",
    "outputId": "b37d52d4-5793-48d4-d9b4-6e063d4e7dcb"
   },
   "source": [
    "show_example(1)"
   ],
   "execution_count": 12,
   "outputs": [
    {
     "output_type": "stream",
     "text": [
      "Peru Gov't: Police Killed in Self-Defense Peru's interior minister said Wednesday that police acted in self-defense when they killed three coca farmers who were part of a group that hurled rocks and tried to burn a police lieutenant alive to protest U.S.-backed eradication of their cocaine producing crop.\n",
      "Predicted label: World\n",
      "Actual label: World\n",
      "Most salient words:  ['acted' 'coca' 'cocaine' 'crop' \"gov't\" 'killed' 'minister' 'protest']\n"
     ],
     "name": "stdout"
    }
   ]
  },
  {
   "cell_type": "code",
   "metadata": {
    "colab": {
     "base_uri": "https://localhost:8080/"
    },
    "id": "NUu3S8a9M2au",
    "outputId": "be4540e4-84d8-493f-c0ab-baa1ebecbca9"
   },
   "source": [
    "show_example(2)"
   ],
   "execution_count": 13,
   "outputs": [
    {
     "output_type": "stream",
     "text": [
      "SpaceShipOne Rolls Toward Victory MOJAVE, California -- A Southern California aerospace team took a big step toward capturing the \\$10 million Ansari X Prize Wednesday, but not without surviving a scary moment when the pilot found himself in a rapid spin as he roared across the threshold \n",
      "Predicted label: Tech\n",
      "Actual label: Tech\n",
      "Most salient words:  ['ansari' 'himself' 'mojave' 'threshold' 'x']\n"
     ],
     "name": "stdout"
    }
   ]
  },
  {
   "cell_type": "code",
   "metadata": {
    "colab": {
     "base_uri": "https://localhost:8080/"
    },
    "id": "9IW7BlPiM4TA",
    "outputId": "3954dcf4-7a34-42cd-8b35-82e406fa3405"
   },
   "source": [
    "show_example(3)"
   ],
   "execution_count": 14,
   "outputs": [
    {
     "output_type": "stream",
     "text": [
      "Cards unfazed by Series deficit Monday #39;s workout at Busch Stadium contained a few more St. Louis Cardinals than you #39;d expect considering it was optional, but you could understand why they #39;d want to \n",
      "Predicted label: Sport\n",
      "Actual label: Sport\n",
      "Most salient words:  ['cardinals' 'contained' 'deficit' 'optional' 'unfazed' 'workout']\n"
     ],
     "name": "stdout"
    }
   ]
  },
  {
   "cell_type": "code",
   "metadata": {
    "colab": {
     "base_uri": "https://localhost:8080/"
    },
    "id": "WRA1srbpM8ZD",
    "outputId": "7230bf77-7d55-470e-b41b-99ece670b650"
   },
   "source": [
    "show_example(4)"
   ],
   "execution_count": 15,
   "outputs": [
    {
     "output_type": "stream",
     "text": [
      "Spawn of X Prize on Horizon Innovators take note: The folks behind the X Prize vow there will soon be more competitions in several disciplines. Also: The da Vinci team presses ahead in Canada.... Rubicon team plans another launch attempt. By Dan Brekke.\n",
      "Predicted label: Tech\n",
      "Actual label: Tech\n",
      "Most salient words:  ['canada' 'da' 'dan' 'horizon' 'launch' 'presses' 'vinci' 'vow' 'x']\n"
     ],
     "name": "stdout"
    }
   ]
  },
  {
   "cell_type": "code",
   "metadata": {
    "colab": {
     "base_uri": "https://localhost:8080/"
    },
    "id": "jKopKxLdNARS",
    "outputId": "5ed91b8c-eed4-499a-9a2b-1c21fdc36158"
   },
   "source": [
    "show_example(5)"
   ],
   "execution_count": 16,
   "outputs": [
    {
     "output_type": "stream",
     "text": [
      "Myskina, Kuznetsov to Play in Fed Cup (AP) AP - Anastasia Myskina and Svetlana Kuznetsova will lead Russia's Fed Cup team when it plays Austria in this month's semifinals. Defending champion France will feature Amelie Mauresmo and Mary Pierce in the other semifinal against Spain, which has won this event five times.\n",
      "Predicted label: Sport\n",
      "Actual label: Sport\n",
      "Most salient words:  ['champion' 'cup' 'feature' 'fed' \"month's\" 'other' \"russia's\"]\n"
     ],
     "name": "stdout"
    }
   ]
  },
  {
   "cell_type": "code",
   "metadata": {
    "colab": {
     "base_uri": "https://localhost:8080/"
    },
    "id": "UEhfWjBLnygj",
    "outputId": "a2e97341-273e-460f-b687-1692bf3759b4"
   },
   "source": [
    "show_example(6)"
   ],
   "execution_count": 20,
   "outputs": [
    {
     "output_type": "stream",
     "text": [
      "Prosecutor seeks 8 years in jail for Berlusconi  MILAN -- An Italian prosecutor asked a court yesterday to sentence Silvio Berlusconi to eight years in jail for bribing judges as the prime minister's four-year corruption trial reached its closing stages.\n",
      "Predicted label: World\n",
      "Actual label: World\n",
      "Most salient words:  ['berlusconi' 'corruption' 'jail' 'milan' 'sentence' 'stages' 'trial']\n"
     ],
     "name": "stdout"
    }
   ]
  },
  {
   "cell_type": "code",
   "metadata": {
    "colab": {
     "base_uri": "https://localhost:8080/"
    },
    "id": "VHJvei6aND4q",
    "outputId": "07d32fac-7735-42fb-9693-8835827c894b"
   },
   "source": [
    "show_example(7)"
   ],
   "execution_count": 17,
   "outputs": [
    {
     "output_type": "stream",
     "text": [
      "Intel drops prices on computer chips SAN FRANCISCO - Intel Corp. has cut prices on its computer chips by as much as 35 percent, though analysts on Monday said the cuts were probably unrelated to swelling inventories of the world #39;s largest chip maker.\n",
      "Predicted label: Business\n",
      "Actual label: Tech\n",
      "Most salient words:  ['chip' 'computer' 'corp' 'intel' 'inventories' 'prices' 'swelling']\n"
     ],
     "name": "stdout"
    }
   ]
  },
  {
   "cell_type": "code",
   "metadata": {
    "colab": {
     "base_uri": "https://localhost:8080/"
    },
    "id": "lP9KUUE7NFc_",
    "outputId": "074f00ed-7f6c-41fc-c160-2581901a9dcd"
   },
   "source": [
    "show_example(8)"
   ],
   "execution_count": 18,
   "outputs": [
    {
     "output_type": "stream",
     "text": [
      "Cardinals to Play Broncos Boise State accepts a bid Tuesday to play Louisville in the Liberty Bowl on Dec. 31, in a matchup of the nation's top two offenses.\n",
      "Predicted label: Sport\n",
      "Actual label: Sport\n",
      "Most salient words:  ['boise' 'bowl' 'cardinals' 'liberty' \"nation's\" 'offenses']\n"
     ],
     "name": "stdout"
    }
   ]
  },
  {
   "cell_type": "code",
   "metadata": {
    "colab": {
     "base_uri": "https://localhost:8080/"
    },
    "id": "6loOtk_7NGxI",
    "outputId": "ef7b8d0b-645d-4cfa-8325-6d7be91c23ed"
   },
   "source": [
    "show_example(9)"
   ],
   "execution_count": 19,
   "outputs": [
    {
     "output_type": "stream",
     "text": [
      "Dollar Stabilizes Above Recent Lows (Reuters) Reuters - The dollar edged up against the yen and\\steadied against the euro on Friday, but kept within sight of\\multi-month lows hit this week on worries about the U.S.\\economy and its ability to attract global investors.\n",
      "Predicted label: Business\n",
      "Actual label: Business\n",
      "Most salient words:  ['ability' 'attract' 'economy' 'euro' 'multi' 'sight' 'u' 'worries' 'yen']\n"
     ],
     "name": "stdout"
    }
   ]
  }
 ]
}
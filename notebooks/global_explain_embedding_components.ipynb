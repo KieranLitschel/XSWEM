{
 "nbformat": 4,
 "nbformat_minor": 0,
 "metadata": {
  "colab": {
   "name": "global_explain_embedding_components.ipynb",
   "provenance": [],
   "collapsed_sections": []
  },
  "kernelspec": {
   "display_name": "Python 3",
   "language": "python",
   "name": "python3"
  },
  "language_info": {
   "codemirror_mode": {
    "name": "ipython",
    "version": 3
   },
   "file_extension": ".py",
   "mimetype": "text/x-python",
   "name": "python",
   "nbconvert_exporter": "python",
   "pygments_lexer": "ipython3",
   "version": "3.8.5"
  },
  "accelerator": "GPU"
 },
 "cells": [
  {
   "cell_type": "markdown",
   "metadata": {
    "id": "5FiWYLdj1_LE"
   },
   "source": [
    "This notebook explains how to use the global_plot_embedding_histogram and global_explain_embedding_components functions for a global explanation of your trained XSWEM model. As a pre-requisite to this notebook we would recommend reading section 4.1.1 of [Baseline Needs More Love: On Simple Word-Embedding-Based Models and Associated Pooling Mechanisms](https://arxiv.org/pdf/1805.09843.pdf), as this is where this method of explanation was originally proposed."
   ]
  },
  {
   "cell_type": "markdown",
   "source": [
    "You can run this notebook in Google Colab by right-clicking on the badge below, and opening the link in a new tab.\n",
    "\n",
    "[![Open In Colab](https://colab.research.google.com/assets/colab-badge.svg)](https://colab.research.google.com/github/KieranLitschel/XSWEM/blob/main/notebooks/global_explain_embedding_components.ipynb)"
   ],
   "metadata": {
    "collapsed": false
   }
  },
  {
   "cell_type": "markdown",
   "source": [
    "Install XSWEM and [Hugging Face datasets](https://github.com/huggingface/datasets)."
   ],
   "metadata": {
    "collapsed": false
   }
  },
  {
   "cell_type": "code",
   "execution_count": null,
   "outputs": [],
   "source": [
    "!pip install xswem\n",
    "!pip install datasets"
   ],
   "metadata": {
    "collapsed": false,
    "pycharm": {
     "name": "#%%\n"
    }
   }
  },
  {
   "cell_type": "markdown",
   "metadata": {
    "id": "jKNLk6TCtk5b"
   },
   "source": [
    "First we load and prepare the dataset, and train the model. This is very similar code as in the train_xswem notebook, except we modify it for the [yelp_polarity dataset](https://huggingface.co/datasets/viewer/?dataset=yelp_polarity).\n",
    "\n",
    "From our experience using this method of global explainability, it seems to be important to use pre-trained GloVe embeddings and adapt the frozen embeddings. If we don't use them the model still performs similarly, but it is hard to see a pattern in the maximum values for each dimension."
   ]
  },
  {
   "cell_type": "code",
   "metadata": {
    "id": "iK-SetLf1_LF",
    "colab": {
     "base_uri": "https://localhost:8080/"
    },
    "outputId": "a8efc10e-6716-49d6-bcc0-2a28030082a6"
   },
   "source": [
    "## Download the GloVe embeddings. This is the \"Common Crawl (42B tokens, 1.9M \n",
    "## vocab, uncased, 300d vectors, 1.75 GB download)\" dataset, which you can \n",
    "## download here https://github.com/stanfordnlp/GloVe. We are hosting a copy\n",
    "## on Google Drive as downloading from the internet on Google Colab is slow.\n",
    "\n",
    "import os\n",
    "if not os.path.isfile(\"glove.42B.300d.txt\"):\n",
    "    !gdown --id 1LTAMRtx7VYKDI-7r6aG-t3E1nTHx7sG8\n",
    "    !unzip glove.42B.300d.zip\n",
    "\n",
    "## Make this notebook deterministic.\n",
    "\n",
    "RANDOM_SEED = 0\n",
    "\n",
    "# Python RNG\n",
    "import random\n",
    "random.seed(RANDOM_SEED)\n",
    "\n",
    "# Numpy RNG\n",
    "import numpy as np\n",
    "np.random.seed(RANDOM_SEED)\n",
    "\n",
    "# TF RNG\n",
    "import tensorflow as tf\n",
    "from tensorflow.python.framework import random_seed\n",
    "random_seed.set_seed(RANDOM_SEED)\n",
    "\n",
    "## Import the necessary modules.\n",
    "\n",
    "from xswem.model import XSWEM\n",
    "from xswem.utils import prepare_embedding_weights_map_from_glove\n",
    "from datasets import load_dataset\n",
    "from tensorflow.keras.preprocessing.text import Tokenizer\n",
    "from tensorflow.data import Dataset\n",
    "import pandas as pd\n",
    "\n",
    "## Load and shuffle the dataset. We keep 10% of the training set for validation.\n",
    "\n",
    "yelp_polarity = load_dataset('yelp_polarity')\n",
    "yelp_polarity = yelp_polarity.map(lambda row: {\n",
    "    \"text\": row[\"text\"].replace(\"\\\\n\",\"\\n\").replace(\"\\\\t\",\"\\t\"), \n",
    "    \"label\": row[\"label\"]})\n",
    "yelp_polarity = yelp_polarity.shuffle({\"train\":RANDOM_SEED,\"test\":RANDOM_SEED})\n",
    "yelp_polarity[\"train\"] = yelp_polarity[\"train\"].train_test_split(test_size=0.1,seed=RANDOM_SEED)\n",
    "yelp_polarity_train, yelp_polarity_valid = yelp_polarity[\"train\"][\"train\"], yelp_polarity[\"train\"][\"test\"]\n",
    "X, y = yelp_polarity_train[\"text\"], yelp_polarity_train[\"label\"]\n",
    "X_valid, y_valid = yelp_polarity_valid[\"text\"], yelp_polarity_valid[\"label\"]\n",
    "yelp_polarity_test = yelp_polarity[\"test\"]\n",
    "X_test, y_test = yelp_polarity_test[\"text\"], yelp_polarity_test[\"label\"]\n",
    "\n",
    "\n",
    "\n",
    "## Build the tokenizer.\n",
    "\n",
    "NUM_WORDS = 20000 # this means we only keep words where there are at least 50 examples\n",
    "FILTERS = '!\"#$%&()*+,-./:;<=>?@[\\\\]^_`{|}~\\t\\n0123456789'\n",
    "# Its important to set the oov_token to \"<unk>\"\" to match GloVe.\n",
    "tokenizer = Tokenizer(num_words=NUM_WORDS, oov_token=\"<unk>\", filters=FILTERS)\n",
    "tokenizer.fit_on_texts(X)\n",
    "vocab_map = {i+1: tokenizer.index_word[i+1] for i in range(NUM_WORDS)}\n",
    "# this output map may seem slightly counterintuitive at first, as in the \n",
    "# yelp_polarity dataset, the label 0 means a text has negative polarity, and\n",
    "# 1 means positive polarity. But for our model we're using a sigmoid activation\n",
    "# function for the output layer as this is a binary classification problem, so \n",
    "# we only have only have one unit in the output layer, with an output of 0 \n",
    "# meaning negative polarity, and 1 meaning positive polarity. So our single \n",
    "# output unit identifies if a text has positive polarity, and is labelled as \n",
    "# such.\n",
    "output_map = {\n",
    "                0: \"Positive\"\n",
    "            }\n",
    "\n",
    "## Prepare the GloVe embeddings.\n",
    "\n",
    "vocab = vocab_map.values()\n",
    "embedding_weights_map = prepare_embedding_weights_map_from_glove(\"glove.42B.300d.txt\", vocab, verbose=1)\n",
    "\n",
    "## Build the dataset pipeline.\n",
    "\n",
    "BATCH_SIZE = 32\n",
    "NUM_LABELS = len(output_map)\n",
    "\n",
    "train_dataset = Dataset.from_tensor_slices((X,y))\n",
    "valid_dataset = Dataset.from_tensor_slices((X_valid,y_valid))\n",
    "test_dataset = Dataset.from_tensor_slices((X_test,y_test))\n",
    "\n",
    "# Repeat and shuffle the train datasets.\n",
    "train_dataset = train_dataset.repeat()\n",
    "train_dataset = train_dataset.shuffle(BATCH_SIZE*2)\n",
    "\n",
    "# Tokenize the text.\n",
    "# We only keep unique tokens as XSWEM is invariant to token frequency and order.\n",
    "tokenize = lambda text, label: (tf.py_function(lambda text: np.unique(tokenizer.texts_to_sequences([str(text.numpy())])[0]), inp=[text], Tout=tf.int32), label)\n",
    "train_dataset = train_dataset.map(tokenize,num_parallel_calls=tf.data.experimental.AUTOTUNE)\n",
    "valid_dataset = valid_dataset.map(tokenize,num_parallel_calls=tf.data.experimental.AUTOTUNE)\n",
    "test_dataset = test_dataset.map(tokenize,num_parallel_calls=tf.data.experimental.AUTOTUNE)\n",
    "\n",
    "# Pre-fetch so that GPU spends less time waiting.\n",
    "train_dataset = train_dataset.prefetch(tf.data.experimental.AUTOTUNE)\n",
    "valid_dataset = valid_dataset.prefetch(tf.data.experimental.AUTOTUNE)\n",
    "test_dataset = test_dataset.prefetch(tf.data.experimental.AUTOTUNE)\n",
    "\n",
    "# Padded batch allows us to handle varying sentence lengths.\n",
    "train_dataset = train_dataset.padded_batch(BATCH_SIZE,padded_shapes=([None],[]))\n",
    "valid_dataset = valid_dataset.padded_batch(BATCH_SIZE,padded_shapes=([None],[]))\n",
    "test_dataset = test_dataset.padded_batch(BATCH_SIZE,padded_shapes=([None],[]))\n",
    "\n",
    "## Build the XSWEM model.\n",
    "model = XSWEM(300, \"sigmoid\", vocab_map, output_map, mask_zero=True, embedding_weights_map=embedding_weights_map, adapt_embeddings=True, freeze_embeddings=True)\n",
    "optimizer = tf.keras.optimizers.SGD(learning_rate=1e-2)\n",
    "model.compile(optimizer, loss=\"binary_crossentropy\", metrics=\"accuracy\")\n",
    "\n",
    "## Train XSWEM model.\n",
    "model.fit(train_dataset, validation_data=valid_dataset, epochs=20, steps_per_epoch=10000, callbacks=[tf.keras.callbacks.EarlyStopping('val_accuracy', restore_best_weights=True)], verbose=2)\n",
    "\n",
    "## Test XSWEM model.\n",
    "model.evaluate(test_dataset)"
   ],
   "execution_count": null,
   "outputs": [
    {
     "output_type": "stream",
     "text": [
      "Requirement already satisfied: datasets in /usr/local/lib/python3.6/dist-packages (1.2.1)\n",
      "Requirement already satisfied: dill in /usr/local/lib/python3.6/dist-packages (from datasets) (0.3.3)\n",
      "Requirement already satisfied: numpy>=1.17 in /usr/local/lib/python3.6/dist-packages (from datasets) (1.19.5)\n",
      "Requirement already satisfied: multiprocess in /usr/local/lib/python3.6/dist-packages (from datasets) (0.70.11.1)\n",
      "Requirement already satisfied: pandas in /usr/local/lib/python3.6/dist-packages (from datasets) (1.1.5)\n",
      "Requirement already satisfied: pyarrow>=0.17.1 in /usr/local/lib/python3.6/dist-packages (from datasets) (2.0.0)\n",
      "Requirement already satisfied: requests>=2.19.0 in /usr/local/lib/python3.6/dist-packages (from datasets) (2.23.0)\n",
      "Requirement already satisfied: importlib-metadata; python_version < \"3.8\" in /usr/local/lib/python3.6/dist-packages (from datasets) (3.3.0)\n",
      "Requirement already satisfied: tqdm<4.50.0,>=4.27 in /usr/local/lib/python3.6/dist-packages (from datasets) (4.41.1)\n",
      "Requirement already satisfied: xxhash in /usr/local/lib/python3.6/dist-packages (from datasets) (2.0.0)\n",
      "Requirement already satisfied: dataclasses; python_version < \"3.7\" in /usr/local/lib/python3.6/dist-packages (from datasets) (0.8)\n",
      "Requirement already satisfied: python-dateutil>=2.7.3 in /usr/local/lib/python3.6/dist-packages (from pandas->datasets) (2.8.1)\n",
      "Requirement already satisfied: pytz>=2017.2 in /usr/local/lib/python3.6/dist-packages (from pandas->datasets) (2018.9)\n",
      "Requirement already satisfied: chardet<4,>=3.0.2 in /usr/local/lib/python3.6/dist-packages (from requests>=2.19.0->datasets) (3.0.4)\n",
      "Requirement already satisfied: certifi>=2017.4.17 in /usr/local/lib/python3.6/dist-packages (from requests>=2.19.0->datasets) (2020.12.5)\n",
      "Requirement already satisfied: idna<3,>=2.5 in /usr/local/lib/python3.6/dist-packages (from requests>=2.19.0->datasets) (2.10)\n",
      "Requirement already satisfied: urllib3!=1.25.0,!=1.25.1,<1.26,>=1.21.1 in /usr/local/lib/python3.6/dist-packages (from requests>=2.19.0->datasets) (1.24.3)\n",
      "Requirement already satisfied: typing-extensions>=3.6.4; python_version < \"3.8\" in /usr/local/lib/python3.6/dist-packages (from importlib-metadata; python_version < \"3.8\"->datasets) (3.7.4.3)\n",
      "Requirement already satisfied: zipp>=0.5 in /usr/local/lib/python3.6/dist-packages (from importlib-metadata; python_version < \"3.8\"->datasets) (3.4.0)\n",
      "Requirement already satisfied: six>=1.5 in /usr/local/lib/python3.6/dist-packages (from python-dateutil>=2.7.3->pandas->datasets) (1.15.0)\n"
     ],
     "name": "stdout"
    },
    {
     "output_type": "stream",
     "text": [
      "Reusing dataset yelp_polarity (/root/.cache/huggingface/datasets/yelp_polarity/plain_text/1.0.0/2b33212d89209ed1ea0522001bccc5f5a5c920dd9c326f3c828e67a22c51a98c)\n",
      "Loading cached processed dataset at /root/.cache/huggingface/datasets/yelp_polarity/plain_text/1.0.0/2b33212d89209ed1ea0522001bccc5f5a5c920dd9c326f3c828e67a22c51a98c/cache-39795918bc77a6d3.arrow\n",
      "Loading cached processed dataset at /root/.cache/huggingface/datasets/yelp_polarity/plain_text/1.0.0/2b33212d89209ed1ea0522001bccc5f5a5c920dd9c326f3c828e67a22c51a98c/cache-c503b806bebe9346.arrow\n",
      "Loading cached shuffled indices for dataset at /root/.cache/huggingface/datasets/yelp_polarity/plain_text/1.0.0/2b33212d89209ed1ea0522001bccc5f5a5c920dd9c326f3c828e67a22c51a98c/cache-86287e45fb253470.arrow\n",
      "Loading cached shuffled indices for dataset at /root/.cache/huggingface/datasets/yelp_polarity/plain_text/1.0.0/2b33212d89209ed1ea0522001bccc5f5a5c920dd9c326f3c828e67a22c51a98c/cache-771e79be57aea394.arrow\n",
      "Loading cached split indices for dataset at /root/.cache/huggingface/datasets/yelp_polarity/plain_text/1.0.0/2b33212d89209ed1ea0522001bccc5f5a5c920dd9c326f3c828e67a22c51a98c/cache-a022c17a5cfa2266.arrow and /root/.cache/huggingface/datasets/yelp_polarity/plain_text/1.0.0/2b33212d89209ed1ea0522001bccc5f5a5c920dd9c326f3c828e67a22c51a98c/cache-94c22adca4d296ff.arrow\n",
      "1917495it [00:47, 40194.54it/s]\n"
     ],
     "name": "stderr"
    },
    {
     "output_type": "stream",
     "text": [
      "WARNING:tensorflow:683 words had no provided weights in embedding_weights_map so their embedding's were initialized randomly\n",
      "Epoch 1/20\n",
      "10000/10000 - 203s - loss: 0.3883 - accuracy: 0.8225 - val_loss: 0.2892 - val_accuracy: 0.8777\n",
      "Epoch 2/20\n",
      "10000/10000 - 199s - loss: 0.2654 - accuracy: 0.8880 - val_loss: 0.2496 - val_accuracy: 0.8963\n",
      "Epoch 3/20\n",
      "10000/10000 - 199s - loss: 0.2338 - accuracy: 0.9028 - val_loss: 0.2266 - val_accuracy: 0.9062\n",
      "Epoch 4/20\n",
      "10000/10000 - 200s - loss: 0.2196 - accuracy: 0.9098 - val_loss: 0.2155 - val_accuracy: 0.9112\n",
      "Epoch 5/20\n",
      "10000/10000 - 199s - loss: 0.2111 - accuracy: 0.9138 - val_loss: 0.2301 - val_accuracy: 0.9032\n",
      "1188/1188 [==============================] - 22s 18ms/step - loss: 0.2106 - accuracy: 0.9131\n"
     ],
     "name": "stdout"
    },
    {
     "output_type": "execute_result",
     "data": {
      "text/plain": [
       "[0.21059906482696533, 0.9131052494049072]"
      ]
     },
     "metadata": {
      "tags": []
     },
     "execution_count": 1
    }
   ]
  },
  {
   "cell_type": "markdown",
   "metadata": {
    "id": "E4qKnfDU7cCR"
   },
   "source": [
    "We plot a histogram of the component values, and observe that our model has learnt sparse embeddings, with most values centred around 0 and some very large values. This is the same pattern as observed in figure 1 of the [original paper](https://arxiv.org/pdf/1805.09843.pdf)."
   ]
  },
  {
   "cell_type": "code",
   "metadata": {
    "id": "1s-wp-fhu9Ce",
    "colab": {
     "base_uri": "https://localhost:8080/",
     "height": 295
    },
    "outputId": "9d15010e-a26c-4e70-a54a-82a11d560969"
   },
   "source": [
    "model.global_plot_embedding_histogram(adapt_embeddings=True)"
   ],
   "execution_count": null,
   "outputs": [
    {
     "output_type": "display_data",
     "data": {
      "image/png": "[encoded data removed]",
      "text/plain": [
       "<Figure size 432x288 with 1 Axes>"
      ]
     },
     "metadata": {
      "tags": [],
      "needs_background": "light"
     }
    }
   ]
  },
  {
   "cell_type": "markdown",
   "metadata": {
    "id": "wnXgtQ7p72Rt"
   },
   "source": [
    "Below we show the results of our explainabiity function. This determines the top five words with the largest values for each component of the embeddings, and is equivalent to table 3 in the original paper. We label the columns of the table with the index of the component in the embedding vector.\r\n",
    "\r\n",
    "A lot of the components appear to be quite noisy, with no clear relevance to the classification task. We show the first 10 components here to demonstrate this."
   ]
  },
  {
   "cell_type": "code",
   "metadata": {
    "id": "lKAaFikuwVVJ",
    "colab": {
     "base_uri": "https://localhost:8080/",
     "height": 235
    },
    "outputId": "44c2854e-5f5e-402a-a59d-0a628436b505"
   },
   "source": [
    "global_explained_embedding_components = model.global_explain_embedding_components(adapt_embeddings=True)\r\n",
    "global_explained_embedding_components.iloc[:, :10]"
   ],
   "execution_count": null,
   "outputs": [
    {
     "output_type": "execute_result",
     "data": {
      "text/html": [
       "<div>\n",
       "<style scoped>\n",
       "    .dataframe tbody tr th:only-of-type {\n",
       "        vertical-align: middle;\n",
       "    }\n",
       "\n",
       "    .dataframe tbody tr th {\n",
       "        vertical-align: top;\n",
       "    }\n",
       "\n",
       "    .dataframe thead th {\n",
       "        text-align: right;\n",
       "    }\n",
       "</style>\n",
       "<table border=\"1\" class=\"dataframe\">\n",
       "  <thead>\n",
       "    <tr style=\"text-align: right;\">\n",
       "      <th></th>\n",
       "      <th>0</th>\n",
       "      <th>1</th>\n",
       "      <th>2</th>\n",
       "      <th>3</th>\n",
       "      <th>4</th>\n",
       "      <th>5</th>\n",
       "      <th>6</th>\n",
       "      <th>7</th>\n",
       "      <th>8</th>\n",
       "      <th>9</th>\n",
       "    </tr>\n",
       "    <tr>\n",
       "      <th>Word Rank</th>\n",
       "      <th></th>\n",
       "      <th></th>\n",
       "      <th></th>\n",
       "      <th></th>\n",
       "      <th></th>\n",
       "      <th></th>\n",
       "      <th></th>\n",
       "      <th></th>\n",
       "      <th></th>\n",
       "      <th></th>\n",
       "    </tr>\n",
       "  </thead>\n",
       "  <tbody>\n",
       "    <tr>\n",
       "      <th>1</th>\n",
       "      <td>quel</td>\n",
       "      <td>chicken</td>\n",
       "      <td>sip</td>\n",
       "      <td>pouvez</td>\n",
       "      <td>bulb</td>\n",
       "      <td>steam</td>\n",
       "      <td>seit</td>\n",
       "      <td>directv</td>\n",
       "      <td>nuong</td>\n",
       "      <td>countertop</td>\n",
       "    </tr>\n",
       "    <tr>\n",
       "      <th>2</th>\n",
       "      <td>panko</td>\n",
       "      <td>latex</td>\n",
       "      <td>fresh</td>\n",
       "      <td>tacos</td>\n",
       "      <td>bible</td>\n",
       "      <td>plates</td>\n",
       "      <td>whey</td>\n",
       "      <td>mbps</td>\n",
       "      <td>android</td>\n",
       "      <td>dispenser</td>\n",
       "    </tr>\n",
       "    <tr>\n",
       "      <th>3</th>\n",
       "      <td>sa</td>\n",
       "      <td>daal</td>\n",
       "      <td>grub</td>\n",
       "      <td>albacore</td>\n",
       "      <td>ce</td>\n",
       "      <td>cake</td>\n",
       "      <td>cholesterol</td>\n",
       "      <td>dish</td>\n",
       "      <td>ipad</td>\n",
       "      <td>counter</td>\n",
       "    </tr>\n",
       "    <tr>\n",
       "      <th>4</th>\n",
       "      <td>sore</td>\n",
       "      <td>masks</td>\n",
       "      <td>smoothie</td>\n",
       "      <td>michelada</td>\n",
       "      <td>parts</td>\n",
       "      <td>birthday</td>\n",
       "      <td>shiitake</td>\n",
       "      <td>imax</td>\n",
       "      <td>markup</td>\n",
       "      <td>gender</td>\n",
       "    </tr>\n",
       "    <tr>\n",
       "      <th>5</th>\n",
       "      <td>offensive</td>\n",
       "      <td>flags</td>\n",
       "      <td>sorbet</td>\n",
       "      <td>chaque</td>\n",
       "      <td>puzzle</td>\n",
       "      <td>bikes</td>\n",
       "      <td>poultry</td>\n",
       "      <td>pedicure</td>\n",
       "      <td>kindle</td>\n",
       "      <td>optical</td>\n",
       "    </tr>\n",
       "  </tbody>\n",
       "</table>\n",
       "</div>"
      ],
      "text/plain": [
       "                   0        1         2  ...         7        8           9\n",
       "Word Rank                                ...                               \n",
       "1               quel  chicken       sip  ...   directv    nuong  countertop\n",
       "2              panko    latex     fresh  ...      mbps  android   dispenser\n",
       "3                 sa     daal      grub  ...      dish     ipad     counter\n",
       "4               sore    masks  smoothie  ...      imax   markup      gender\n",
       "5          offensive    flags    sorbet  ...  pedicure   kindle     optical\n",
       "\n",
       "[5 rows x 10 columns]"
      ]
     },
     "metadata": {
      "tags": []
     },
     "execution_count": 10
    }
   ]
  },
  {
   "cell_type": "markdown",
   "metadata": {
    "id": "QD_id2r-RZf_"
   },
   "source": [
    "There are some components though which really seem to be capturing a much clearer polarity, but note there is often still some noise. For example the components below."
   ]
  },
  {
   "cell_type": "code",
   "metadata": {
    "colab": {
     "base_uri": "https://localhost:8080/",
     "height": 235
    },
    "id": "jvrOcD7TRYHA",
    "outputId": "f7a23368-44bc-4150-b8b1-d5536b8b2cb8"
   },
   "source": [
    "clear_polarity = [37, 60, 159]\r\n",
    "global_explained_embedding_components.iloc[:, clear_polarity]"
   ],
   "execution_count": null,
   "outputs": [
    {
     "output_type": "execute_result",
     "data": {
      "text/html": [
       "<div>\n",
       "<style scoped>\n",
       "    .dataframe tbody tr th:only-of-type {\n",
       "        vertical-align: middle;\n",
       "    }\n",
       "\n",
       "    .dataframe tbody tr th {\n",
       "        vertical-align: top;\n",
       "    }\n",
       "\n",
       "    .dataframe thead th {\n",
       "        text-align: right;\n",
       "    }\n",
       "</style>\n",
       "<table border=\"1\" class=\"dataframe\">\n",
       "  <thead>\n",
       "    <tr style=\"text-align: right;\">\n",
       "      <th></th>\n",
       "      <th>37</th>\n",
       "      <th>60</th>\n",
       "      <th>159</th>\n",
       "    </tr>\n",
       "    <tr>\n",
       "      <th>Word Rank</th>\n",
       "      <th></th>\n",
       "      <th></th>\n",
       "      <th></th>\n",
       "    </tr>\n",
       "  </thead>\n",
       "  <tbody>\n",
       "    <tr>\n",
       "      <th>1</th>\n",
       "      <td>negligent</td>\n",
       "      <td>vampires</td>\n",
       "      <td>took</td>\n",
       "    </tr>\n",
       "    <tr>\n",
       "      <th>2</th>\n",
       "      <td>resigned</td>\n",
       "      <td>rudest</td>\n",
       "      <td>hated</td>\n",
       "    </tr>\n",
       "    <tr>\n",
       "      <th>3</th>\n",
       "      <td>wanton</td>\n",
       "      <td>pitchers</td>\n",
       "      <td>teased</td>\n",
       "    </tr>\n",
       "    <tr>\n",
       "      <th>4</th>\n",
       "      <td>unoccupied</td>\n",
       "      <td>dirtiest</td>\n",
       "      <td>ended</td>\n",
       "    </tr>\n",
       "    <tr>\n",
       "      <th>5</th>\n",
       "      <td>lethargic</td>\n",
       "      <td>nastiest</td>\n",
       "      <td>offensive</td>\n",
       "    </tr>\n",
       "  </tbody>\n",
       "</table>\n",
       "</div>"
      ],
      "text/plain": [
       "                  37        60         159\n",
       "Word Rank                                 \n",
       "1           negligent  vampires       took\n",
       "2            resigned    rudest      hated\n",
       "3              wanton  pitchers     teased\n",
       "4          unoccupied  dirtiest      ended\n",
       "5           lethargic  nastiest  offensive"
      ]
     },
     "metadata": {
      "tags": []
     },
     "execution_count": 12
    }
   ]
  }
 ]
}